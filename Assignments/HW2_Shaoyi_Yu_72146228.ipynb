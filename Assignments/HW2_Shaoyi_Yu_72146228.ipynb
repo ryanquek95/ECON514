{
 "cells": [
  {
   "cell_type": "markdown",
   "metadata": {},
   "source": [
    "# ECON 514 Assignment 2\n",
    "## Shaoyi Yu\n",
    "### Q1"
   ]
  },
  {
   "cell_type": "code",
   "execution_count": 1,
   "metadata": {},
   "outputs": [
    {
     "data": {
      "text/plain": [
       "(pi, rho_1, rho_2, beta)"
      ]
     },
     "metadata": {},
     "output_type": "display_data"
    }
   ],
   "source": [
    "#set up variables\n",
    "using SymPy, Plots\n",
    "pi, rho_1, rho_2 , beta= symbols(\"pi,rho_1, rho_2, beta\", real = true, positive = true)"
   ]
  },
  {
   "cell_type": "code",
   "execution_count": 2,
   "metadata": {},
   "outputs": [
    {
     "data": {
      "text/latex": [
       "$\\frac{2 - \\beta}{\\beta + 1}$"
      ],
      "text/plain": [
       "2 - beta\n",
       "--------\n",
       "beta + 1"
      ]
     },
     "metadata": {},
     "output_type": "display_data"
    }
   ],
   "source": [
    "#solve mixed strategies for R2\n",
    "r1 = solve(rho_1/2 + (1 - rho_1) - beta*rho_1 - beta*(1-rho_1)/2, rho_1)[1]"
   ]
  },
  {
   "cell_type": "code",
   "execution_count": 3,
   "metadata": {},
   "outputs": [
    {
     "data": {
      "text/latex": [
       "$\\frac{\\beta^{2} - 2 \\beta + 2}{\\beta \\left(\\beta + 1\\right)}$"
      ],
      "text/plain": [
       "    2             \n",
       "beta  - 2*beta + 2\n",
       "------------------\n",
       " beta*(beta + 1)  "
      ]
     },
     "metadata": {},
     "output_type": "display_data"
    }
   ],
   "source": [
    "#solve mixed strategies for R1\n",
    "r2 = solve(beta*rho_2/2 + (1-beta)*rho_2 + (1-rho_2) - beta*rho_2 - beta*(1-rho_2)*beta/2 - (1-beta)*(1-rho_2)*beta, rho_2)[1]"
   ]
  },
  {
   "cell_type": "code",
   "execution_count": 4,
   "metadata": {},
   "outputs": [
    {
     "data": {
      "text/latex": [
       "$\\frac{5 \\beta^{4} - 3 \\beta^{3} - 12 \\beta^{2} + 18 \\beta - 8}{2 \\left(2 \\beta^{4} - 3 \\beta^{3} - 6 \\beta^{2} + 10 \\beta - 4\\right)}$"
      ],
      "text/plain": [
       "       4         3          2                \n",
       " 5*beta  - 3*beta  - 12*beta  + 18*beta - 8  \n",
       "---------------------------------------------\n",
       "  /      4         3         2              \\\n",
       "2*\\2*beta  - 3*beta  - 6*beta  + 10*beta - 4/"
      ]
     },
     "metadata": {},
     "output_type": "display_data"
    }
   ],
   "source": [
    "#solve for symmetric computers\n",
    "c = solve(pi/2*(r1 + (1-r1)*beta) + (1-pi)*(r1*r2*beta/2 + r1*r2*(1-beta) + (1-r1)*r2*beta + (1-r1)*(1-r2)*beta*beta/2 + (1-r1)*(1-r2)*(1-beta)*beta) - beta*pi*(r1*r2/2 + \n",
    "r1*(1-r2)*beta + (1-r1)*r2 + (1-r1)*(1-r2)*beta/2) - (1-pi)*beta/2*(r2 + (1-r2)*beta), pi)[1]"
   ]
  },
  {
   "cell_type": "code",
   "execution_count": 5,
   "metadata": {},
   "outputs": [
    {
     "data": {
      "text/latex": [
       "$\\beta^{2} \\left(1 - \\pi\\right)^{2} + \\pi^{2} \\left(\\beta \\left(- \\frac{2 - \\beta}{\\beta + 1} + 1\\right) + \\frac{2 - \\beta}{\\beta + 1}\\right) + 2 \\pi \\left(1 - \\pi\\right) \\left(\\beta^{2} \\left(1 - \\frac{\\beta^{2} - 2 \\beta + 2}{\\beta \\left(\\beta + 1\\right)}\\right) + 1 + \\frac{\\beta^{2} - 2 \\beta + 2}{\\beta + 1}\\right)$"
      ],
      "text/plain": [
       "                                                                         /     >\n",
       "    2         2     2 /     /  2 - beta    \\   2 - beta\\                 |     >\n",
       "beta *(1 - pi)  + pi *|beta*|- -------- + 1| + --------| + 2*pi*(1 - pi)*|beta >\n",
       "                      \\     \\  beta + 1    /   beta + 1/                 \\     >\n",
       "\n",
       ">   /        2             \\           2             \\\n",
       "> 2 |    beta  - 2*beta + 2|       beta  - 2*beta + 2|\n",
       ">  *|1 - ------------------| + 1 + ------------------|\n",
       ">   \\     beta*(beta + 1)  /            beta + 1     /"
      ]
     },
     "metadata": {},
     "output_type": "display_data"
    }
   ],
   "source": [
    "#solve for expected get-thru\n",
    "exp = pi^2 * (r1 + (1-r1)*beta) + 2*pi*(1-pi)*(1+beta*r2+beta^2*(1-r2)) + (1-pi)^2 *beta^2\n"
   ]
  },
  {
   "cell_type": "code",
   "execution_count": 6,
   "metadata": {},
   "outputs": [
    {
     "data": {
      "text/latex": [
       "$\\beta^{2} \\left(2 \\pi - 2\\right) + 2 \\pi \\left(\\beta \\left(- \\frac{2 - \\beta}{\\beta + 1} + 1\\right) + \\frac{2 - \\beta}{\\beta + 1}\\right) - 2 \\pi \\left(\\beta^{2} \\left(1 - \\frac{\\beta^{2} - 2 \\beta + 2}{\\beta \\left(\\beta + 1\\right)}\\right) + 1 + \\frac{\\beta^{2} - 2 \\beta + 2}{\\beta + 1}\\right) + 2 \\left(1 - \\pi\\right) \\left(\\beta^{2} \\left(1 - \\frac{\\beta^{2} - 2 \\beta + 2}{\\beta \\left(\\beta + 1\\right)}\\right) + 1 + \\frac{\\beta^{2} - 2 \\beta + 2}{\\beta + 1}\\right)$"
      ],
      "text/plain": [
       "                                                                  /      /     >\n",
       "    2                   /     /  2 - beta    \\   2 - beta\\        |    2 |     >\n",
       "beta *(2*pi - 2) + 2*pi*|beta*|- -------- + 1| + --------| - 2*pi*|beta *|1 -  >\n",
       "                        \\     \\  beta + 1    /   beta + 1/        \\      \\     >\n",
       "\n",
       ">     2             \\           2             \\              /      /        2 >\n",
       "> beta  - 2*beta + 2|       beta  - 2*beta + 2|              |    2 |    beta  >\n",
       "> ------------------| + 1 + ------------------| + 2*(1 - pi)*|beta *|1 - ----- >\n",
       ">  beta*(beta + 1)  /            beta + 1     /              \\      \\     beta >\n",
       "\n",
       ">              \\           2             \\\n",
       ">  - 2*beta + 2|       beta  - 2*beta + 2|\n",
       "> -------------| + 1 + ------------------|\n",
       "> *(beta + 1)  /            beta + 1     /"
      ]
     },
     "metadata": {},
     "output_type": "display_data"
    }
   ],
   "source": [
    "d = diff(exp,pi)"
   ]
  },
  {
   "cell_type": "code",
   "execution_count": 7,
   "metadata": {},
   "outputs": [
    {
     "data": {
      "text/latex": [
       "$\\frac{\\beta^{3} - 3 \\beta^{2} + 3 \\beta - 3}{\\beta^{3} - 5 \\beta^{2} + 4 \\beta - 4}$"
      ],
      "text/plain": [
       "    3         2             \n",
       "beta  - 3*beta  + 3*beta - 3\n",
       "----------------------------\n",
       "    3         2             \n",
       "beta  - 5*beta  + 4*beta - 4"
      ]
     },
     "metadata": {},
     "output_type": "display_data"
    }
   ],
   "source": [
    "best_regulated = solve(d,pi)[1]"
   ]
  },
  {
   "cell_type": "code",
   "execution_count": 8,
   "metadata": {},
   "outputs": [
    {
     "data": {
      "image/png": "[encoded data removed]",
      "image/svg+xml": [
       "<?xml version=\"1.0\" encoding=\"utf-8\"?>\n",
       "<svg xmlns=\"http://www.w3.org/2000/svg\" xmlns:xlink=\"http://www.w3.org/1999/xlink\" width=\"600\" height=\"400\" viewBox=\"0 0 2400 1600\">\n",
       "<defs>\n",
       "  <clipPath id=\"clip770\">\n",
       "    <rect x=\"0\" y=\"0\" width=\"2400\" height=\"1600\"/>\n",
       "  </clipPath>\n",
       "</defs>\n",
       "<path clip-path=\"url(#clip770)\" d=\"M0 1600 L2400 1600 L2400 0 L0 0  Z\" fill=\"#ffffff\" fill-rule=\"evenodd\" fill-opacity=\"1\"/>\n",
       "<defs>\n",
       "  <clipPath id=\"clip771\">\n",
       "    <rect x=\"480\" y=\"0\" width=\"1681\" height=\"1600\"/>\n",
       "  </clipPath>\n",
       "</defs>\n",
       "<path clip-path=\"url(#clip770)\" d=\"M155.765 1486.45 L2352.76 1486.45 L2352.76 47.2441 L155.765 47.2441  Z\" fill=\"#ffffff\" fill-rule=\"evenodd\" fill-opacity=\"1\"/>\n",
       "<defs>\n",
       "  <clipPath id=\"clip772\">\n",
       "    <rect x=\"155\" y=\"47\" width=\"2198\" height=\"1440\"/>\n",
       "  </clipPath>\n",
       "</defs>\n",
       "<polyline clip-path=\"url(#clip772)\" style=\"stroke:#000000; stroke-linecap:round; stroke-linejoin:round; stroke-width:2; stroke-opacity:0.1; fill:none\" points=\"217.944,1486.45 217.944,47.2441 \"/>\n",
       "<polyline clip-path=\"url(#clip772)\" style=\"stroke:#000000; stroke-linecap:round; stroke-linejoin:round; stroke-width:2; stroke-opacity:0.1; fill:none\" points=\"736.102,1486.45 736.102,47.2441 \"/>\n",
       "<polyline clip-path=\"url(#clip772)\" style=\"stroke:#000000; stroke-linecap:round; stroke-linejoin:round; stroke-width:2; stroke-opacity:0.1; fill:none\" points=\"1254.26,1486.45 1254.26,47.2441 \"/>\n",
       "<polyline clip-path=\"url(#clip772)\" style=\"stroke:#000000; stroke-linecap:round; stroke-linejoin:round; stroke-width:2; stroke-opacity:0.1; fill:none\" points=\"1772.42,1486.45 1772.42,47.2441 \"/>\n",
       "<polyline clip-path=\"url(#clip772)\" style=\"stroke:#000000; stroke-linecap:round; stroke-linejoin:round; stroke-width:2; stroke-opacity:0.1; fill:none\" points=\"2290.58,1486.45 2290.58,47.2441 \"/>\n",
       "<polyline clip-path=\"url(#clip772)\" style=\"stroke:#000000; stroke-linecap:round; stroke-linejoin:round; stroke-width:2; stroke-opacity:0.1; fill:none\" points=\"155.765,1181.49 2352.76,1181.49 \"/>\n",
       "<polyline clip-path=\"url(#clip772)\" style=\"stroke:#000000; stroke-linecap:round; stroke-linejoin:round; stroke-width:2; stroke-opacity:0.1; fill:none\" points=\"155.765,866.977 2352.76,866.977 \"/>\n",
       "<polyline clip-path=\"url(#clip772)\" style=\"stroke:#000000; stroke-linecap:round; stroke-linejoin:round; stroke-width:2; stroke-opacity:0.1; fill:none\" points=\"155.765,552.466 2352.76,552.466 \"/>\n",
       "<polyline clip-path=\"url(#clip772)\" style=\"stroke:#000000; stroke-linecap:round; stroke-linejoin:round; stroke-width:2; stroke-opacity:0.1; fill:none\" points=\"155.765,237.956 2352.76,237.956 \"/>\n",
       "<polyline clip-path=\"url(#clip770)\" style=\"stroke:#000000; stroke-linecap:round; stroke-linejoin:round; stroke-width:4; stroke-opacity:1; fill:none\" points=\"155.765,1486.45 2352.76,1486.45 \"/>\n",
       "<polyline clip-path=\"url(#clip770)\" style=\"stroke:#000000; stroke-linecap:round; stroke-linejoin:round; stroke-width:4; stroke-opacity:1; fill:none\" points=\"217.944,1486.45 217.944,1467.55 \"/>\n",
       "<polyline clip-path=\"url(#clip770)\" style=\"stroke:#000000; stroke-linecap:round; stroke-linejoin:round; stroke-width:4; stroke-opacity:1; fill:none\" points=\"736.102,1486.45 736.102,1467.55 \"/>\n",
       "<polyline clip-path=\"url(#clip770)\" style=\"stroke:#000000; stroke-linecap:round; stroke-linejoin:round; stroke-width:4; stroke-opacity:1; fill:none\" points=\"1254.26,1486.45 1254.26,1467.55 \"/>\n",
       "<polyline clip-path=\"url(#clip770)\" style=\"stroke:#000000; stroke-linecap:round; stroke-linejoin:round; stroke-width:4; stroke-opacity:1; fill:none\" points=\"1772.42,1486.45 1772.42,1467.55 \"/>\n",
       "<polyline clip-path=\"url(#clip770)\" style=\"stroke:#000000; stroke-linecap:round; stroke-linejoin:round; stroke-width:4; stroke-opacity:1; fill:none\" points=\"2290.58,1486.45 2290.58,1467.55 \"/>\n",
       "<path clip-path=\"url(#clip770)\" d=\"M180.247 1517.37 Q176.636 1517.37 174.808 1520.93 Q173.002 1524.47 173.002 1531.6 Q173.002 1538.71 174.808 1542.27 Q176.636 1545.82 180.247 1545.82 Q183.882 1545.82 185.687 1542.27 Q187.516 1538.71 187.516 1531.6 Q187.516 1524.47 185.687 1520.93 Q183.882 1517.37 180.247 1517.37 M180.247 1513.66 Q186.057 1513.66 189.113 1518.27 Q192.192 1522.85 192.192 1531.6 Q192.192 1540.33 189.113 1544.94 Q186.057 1549.52 180.247 1549.52 Q174.437 1549.52 171.358 1544.94 Q168.303 1540.33 168.303 1531.6 Q168.303 1522.85 171.358 1518.27 Q174.437 1513.66 180.247 1513.66 Z\" fill=\"#000000\" fill-rule=\"nonzero\" fill-opacity=\"1\" /><path clip-path=\"url(#clip770)\" d=\"M200.409 1542.97 L205.294 1542.97 L205.294 1548.85 L200.409 1548.85 L200.409 1542.97 Z\" fill=\"#000000\" fill-rule=\"nonzero\" fill-opacity=\"1\" /><path clip-path=\"url(#clip770)\" d=\"M225.479 1517.37 Q221.867 1517.37 220.039 1520.93 Q218.233 1524.47 218.233 1531.6 Q218.233 1538.71 220.039 1542.27 Q221.867 1545.82 225.479 1545.82 Q229.113 1545.82 230.918 1542.27 Q232.747 1538.71 232.747 1531.6 Q232.747 1524.47 230.918 1520.93 Q229.113 1517.37 225.479 1517.37 M225.479 1513.66 Q231.289 1513.66 234.344 1518.27 Q237.423 1522.85 237.423 1531.6 Q237.423 1540.33 234.344 1544.94 Q231.289 1549.52 225.479 1549.52 Q219.668 1549.52 216.59 1544.94 Q213.534 1540.33 213.534 1531.6 Q213.534 1522.85 216.59 1518.27 Q219.668 1513.66 225.479 1513.66 Z\" fill=\"#000000\" fill-rule=\"nonzero\" fill-opacity=\"1\" /><path clip-path=\"url(#clip770)\" d=\"M255.64 1517.37 Q252.029 1517.37 250.201 1520.93 Q248.395 1524.47 248.395 1531.6 Q248.395 1538.71 250.201 1542.27 Q252.029 1545.82 255.64 1545.82 Q259.275 1545.82 261.08 1542.27 Q262.909 1538.71 262.909 1531.6 Q262.909 1524.47 261.08 1520.93 Q259.275 1517.37 255.64 1517.37 M255.64 1513.66 Q261.451 1513.66 264.506 1518.27 Q267.585 1522.85 267.585 1531.6 Q267.585 1540.33 264.506 1544.94 Q261.451 1549.52 255.64 1549.52 Q249.83 1549.52 246.752 1544.94 Q243.696 1540.33 243.696 1531.6 Q243.696 1522.85 246.752 1518.27 Q249.83 1513.66 255.64 1513.66 Z\" fill=\"#000000\" fill-rule=\"nonzero\" fill-opacity=\"1\" /><path clip-path=\"url(#clip770)\" d=\"M698.903 1517.37 Q695.292 1517.37 693.463 1520.93 Q691.658 1524.47 691.658 1531.6 Q691.658 1538.71 693.463 1542.27 Q695.292 1545.82 698.903 1545.82 Q702.538 1545.82 704.343 1542.27 Q706.172 1538.71 706.172 1531.6 Q706.172 1524.47 704.343 1520.93 Q702.538 1517.37 698.903 1517.37 M698.903 1513.66 Q704.713 1513.66 707.769 1518.27 Q710.848 1522.85 710.848 1531.6 Q710.848 1540.33 707.769 1544.94 Q704.713 1549.52 698.903 1549.52 Q693.093 1549.52 690.014 1544.94 Q686.959 1540.33 686.959 1531.6 Q686.959 1522.85 690.014 1518.27 Q693.093 1513.66 698.903 1513.66 Z\" fill=\"#000000\" fill-rule=\"nonzero\" fill-opacity=\"1\" /><path clip-path=\"url(#clip770)\" d=\"M719.065 1542.97 L723.949 1542.97 L723.949 1548.85 L719.065 1548.85 L719.065 1542.97 Z\" fill=\"#000000\" fill-rule=\"nonzero\" fill-opacity=\"1\" /><path clip-path=\"url(#clip770)\" d=\"M738.162 1544.91 L754.482 1544.91 L754.482 1548.85 L732.537 1548.85 L732.537 1544.91 Q735.199 1542.16 739.783 1537.53 Q744.389 1532.88 745.57 1531.53 Q747.815 1529.01 748.695 1527.27 Q749.597 1525.51 749.597 1523.82 Q749.597 1521.07 747.653 1519.33 Q745.732 1517.6 742.63 1517.6 Q740.431 1517.6 737.977 1518.36 Q735.547 1519.13 732.769 1520.68 L732.769 1515.95 Q735.593 1514.82 738.047 1514.24 Q740.5 1513.66 742.537 1513.66 Q747.908 1513.66 751.102 1516.35 Q754.296 1519.03 754.296 1523.52 Q754.296 1525.65 753.486 1527.57 Q752.699 1529.47 750.593 1532.07 Q750.014 1532.74 746.912 1535.95 Q743.81 1539.15 738.162 1544.91 Z\" fill=\"#000000\" fill-rule=\"nonzero\" fill-opacity=\"1\" /><path clip-path=\"url(#clip770)\" d=\"M764.343 1514.29 L782.699 1514.29 L782.699 1518.22 L768.625 1518.22 L768.625 1526.7 Q769.644 1526.35 770.662 1526.19 Q771.681 1526 772.699 1526 Q778.486 1526 781.866 1529.17 Q785.245 1532.34 785.245 1537.76 Q785.245 1543.34 781.773 1546.44 Q778.301 1549.52 771.982 1549.52 Q769.806 1549.52 767.537 1549.15 Q765.292 1548.78 762.884 1548.04 L762.884 1543.34 Q764.968 1544.47 767.19 1545.03 Q769.412 1545.58 771.889 1545.58 Q775.894 1545.58 778.232 1543.48 Q780.57 1541.37 780.57 1537.76 Q780.57 1534.15 778.232 1532.04 Q775.894 1529.94 771.889 1529.94 Q770.014 1529.94 768.139 1530.35 Q766.287 1530.77 764.343 1531.65 L764.343 1514.29 Z\" fill=\"#000000\" fill-rule=\"nonzero\" fill-opacity=\"1\" /><path clip-path=\"url(#clip770)\" d=\"M1216.56 1517.37 Q1212.95 1517.37 1211.12 1520.93 Q1209.32 1524.47 1209.32 1531.6 Q1209.32 1538.71 1211.12 1542.27 Q1212.95 1545.82 1216.56 1545.82 Q1220.2 1545.82 1222 1542.27 Q1223.83 1538.71 1223.83 1531.6 Q1223.83 1524.47 1222 1520.93 Q1220.2 1517.37 1216.56 1517.37 M1216.56 1513.66 Q1222.37 1513.66 1225.43 1518.27 Q1228.51 1522.85 1228.51 1531.6 Q1228.51 1540.33 1225.43 1544.94 Q1222.37 1549.52 1216.56 1549.52 Q1210.75 1549.52 1207.68 1544.94 Q1204.62 1540.33 1204.62 1531.6 Q1204.62 1522.85 1207.68 1518.27 Q1210.75 1513.66 1216.56 1513.66 Z\" fill=\"#000000\" fill-rule=\"nonzero\" fill-opacity=\"1\" /><path clip-path=\"url(#clip770)\" d=\"M1236.73 1542.97 L1241.61 1542.97 L1241.61 1548.85 L1236.73 1548.85 L1236.73 1542.97 Z\" fill=\"#000000\" fill-rule=\"nonzero\" fill-opacity=\"1\" /><path clip-path=\"url(#clip770)\" d=\"M1251.84 1514.29 L1270.2 1514.29 L1270.2 1518.22 L1256.12 1518.22 L1256.12 1526.7 Q1257.14 1526.35 1258.16 1526.19 Q1259.18 1526 1260.2 1526 Q1265.98 1526 1269.36 1529.17 Q1272.74 1532.34 1272.74 1537.76 Q1272.74 1543.34 1269.27 1546.44 Q1265.8 1549.52 1259.48 1549.52 Q1257.3 1549.52 1255.04 1549.15 Q1252.79 1548.78 1250.38 1548.04 L1250.38 1543.34 Q1252.47 1544.47 1254.69 1545.03 Q1256.91 1545.58 1259.39 1545.58 Q1263.39 1545.58 1265.73 1543.48 Q1268.07 1541.37 1268.07 1537.76 Q1268.07 1534.15 1265.73 1532.04 Q1263.39 1529.94 1259.39 1529.94 Q1257.51 1529.94 1255.64 1530.35 Q1253.79 1530.77 1251.84 1531.65 L1251.84 1514.29 Z\" fill=\"#000000\" fill-rule=\"nonzero\" fill-opacity=\"1\" /><path clip-path=\"url(#clip770)\" d=\"M1291.96 1517.37 Q1288.35 1517.37 1286.52 1520.93 Q1284.71 1524.47 1284.71 1531.6 Q1284.71 1538.71 1286.52 1542.27 Q1288.35 1545.82 1291.96 1545.82 Q1295.59 1545.82 1297.4 1542.27 Q1299.23 1538.71 1299.23 1531.6 Q1299.23 1524.47 1297.4 1520.93 Q1295.59 1517.37 1291.96 1517.37 M1291.96 1513.66 Q1297.77 1513.66 1300.82 1518.27 Q1303.9 1522.85 1303.9 1531.6 Q1303.9 1540.33 1300.82 1544.94 Q1297.77 1549.52 1291.96 1549.52 Q1286.15 1549.52 1283.07 1544.94 Q1280.01 1540.33 1280.01 1531.6 Q1280.01 1522.85 1283.07 1518.27 Q1286.15 1513.66 1291.96 1513.66 Z\" fill=\"#000000\" fill-rule=\"nonzero\" fill-opacity=\"1\" /><path clip-path=\"url(#clip770)\" d=\"M1735.22 1517.37 Q1731.61 1517.37 1729.78 1520.93 Q1727.97 1524.47 1727.97 1531.6 Q1727.97 1538.71 1729.78 1542.27 Q1731.61 1545.82 1735.22 1545.82 Q1738.85 1545.82 1740.66 1542.27 Q1742.49 1538.71 1742.49 1531.6 Q1742.49 1524.47 1740.66 1520.93 Q1738.85 1517.37 1735.22 1517.37 M1735.22 1513.66 Q1741.03 1513.66 1744.09 1518.27 Q1747.16 1522.85 1747.16 1531.6 Q1747.16 1540.33 1744.09 1544.94 Q1741.03 1549.52 1735.22 1549.52 Q1729.41 1549.52 1726.33 1544.94 Q1723.28 1540.33 1723.28 1531.6 Q1723.28 1522.85 1726.33 1518.27 Q1729.41 1513.66 1735.22 1513.66 Z\" fill=\"#000000\" fill-rule=\"nonzero\" fill-opacity=\"1\" /><path clip-path=\"url(#clip770)\" d=\"M1755.38 1542.97 L1760.27 1542.97 L1760.27 1548.85 L1755.38 1548.85 L1755.38 1542.97 Z\" fill=\"#000000\" fill-rule=\"nonzero\" fill-opacity=\"1\" /><path clip-path=\"url(#clip770)\" d=\"M1769.27 1514.29 L1791.49 1514.29 L1791.49 1516.28 L1778.95 1548.85 L1774.06 1548.85 L1785.87 1518.22 L1769.27 1518.22 L1769.27 1514.29 Z\" fill=\"#000000\" fill-rule=\"nonzero\" fill-opacity=\"1\" /><path clip-path=\"url(#clip770)\" d=\"M1800.66 1514.29 L1819.02 1514.29 L1819.02 1518.22 L1804.94 1518.22 L1804.94 1526.7 Q1805.96 1526.35 1806.98 1526.19 Q1808 1526 1809.02 1526 Q1814.8 1526 1818.18 1529.17 Q1821.56 1532.34 1821.56 1537.76 Q1821.56 1543.34 1818.09 1546.44 Q1814.62 1549.52 1808.3 1549.52 Q1806.12 1549.52 1803.85 1549.15 Q1801.61 1548.78 1799.2 1548.04 L1799.2 1543.34 Q1801.28 1544.47 1803.51 1545.03 Q1805.73 1545.58 1808.21 1545.58 Q1812.21 1545.58 1814.55 1543.48 Q1816.89 1541.37 1816.89 1537.76 Q1816.89 1534.15 1814.55 1532.04 Q1812.21 1529.94 1808.21 1529.94 Q1806.33 1529.94 1804.46 1530.35 Q1802.6 1530.77 1800.66 1531.65 L1800.66 1514.29 Z\" fill=\"#000000\" fill-rule=\"nonzero\" fill-opacity=\"1\" /><path clip-path=\"url(#clip770)\" d=\"M2242.65 1544.91 L2250.29 1544.91 L2250.29 1518.55 L2241.98 1520.21 L2241.98 1515.95 L2250.24 1514.29 L2254.92 1514.29 L2254.92 1544.91 L2262.56 1544.91 L2262.56 1548.85 L2242.65 1548.85 L2242.65 1544.91 Z\" fill=\"#000000\" fill-rule=\"nonzero\" fill-opacity=\"1\" /><path clip-path=\"url(#clip770)\" d=\"M2272 1542.97 L2276.88 1542.97 L2276.88 1548.85 L2272 1548.85 L2272 1542.97 Z\" fill=\"#000000\" fill-rule=\"nonzero\" fill-opacity=\"1\" /><path clip-path=\"url(#clip770)\" d=\"M2297.07 1517.37 Q2293.46 1517.37 2291.63 1520.93 Q2289.82 1524.47 2289.82 1531.6 Q2289.82 1538.71 2291.63 1542.27 Q2293.46 1545.82 2297.07 1545.82 Q2300.7 1545.82 2302.51 1542.27 Q2304.34 1538.71 2304.34 1531.6 Q2304.34 1524.47 2302.51 1520.93 Q2300.7 1517.37 2297.07 1517.37 M2297.07 1513.66 Q2302.88 1513.66 2305.94 1518.27 Q2309.01 1522.85 2309.01 1531.6 Q2309.01 1540.33 2305.94 1544.94 Q2302.88 1549.52 2297.07 1549.52 Q2291.26 1549.52 2288.18 1544.94 Q2285.13 1540.33 2285.13 1531.6 Q2285.13 1522.85 2288.18 1518.27 Q2291.26 1513.66 2297.07 1513.66 Z\" fill=\"#000000\" fill-rule=\"nonzero\" fill-opacity=\"1\" /><path clip-path=\"url(#clip770)\" d=\"M2327.23 1517.37 Q2323.62 1517.37 2321.79 1520.93 Q2319.99 1524.47 2319.99 1531.6 Q2319.99 1538.71 2321.79 1542.27 Q2323.62 1545.82 2327.23 1545.82 Q2330.87 1545.82 2332.67 1542.27 Q2334.5 1538.71 2334.5 1531.6 Q2334.5 1524.47 2332.67 1520.93 Q2330.87 1517.37 2327.23 1517.37 M2327.23 1513.66 Q2333.04 1513.66 2336.1 1518.27 Q2339.18 1522.85 2339.18 1531.6 Q2339.18 1540.33 2336.1 1544.94 Q2333.04 1549.52 2327.23 1549.52 Q2321.42 1549.52 2318.34 1544.94 Q2315.29 1540.33 2315.29 1531.6 Q2315.29 1522.85 2318.34 1518.27 Q2321.42 1513.66 2327.23 1513.66 Z\" fill=\"#000000\" fill-rule=\"nonzero\" fill-opacity=\"1\" /><polyline clip-path=\"url(#clip770)\" style=\"stroke:#000000; stroke-linecap:round; stroke-linejoin:round; stroke-width:4; stroke-opacity:1; fill:none\" points=\"155.765,1486.45 155.765,47.2441 \"/>\n",
       "<polyline clip-path=\"url(#clip770)\" style=\"stroke:#000000; stroke-linecap:round; stroke-linejoin:round; stroke-width:4; stroke-opacity:1; fill:none\" points=\"155.765,1181.49 174.663,1181.49 \"/>\n",
       "<polyline clip-path=\"url(#clip770)\" style=\"stroke:#000000; stroke-linecap:round; stroke-linejoin:round; stroke-width:4; stroke-opacity:1; fill:none\" points=\"155.765,866.977 174.663,866.977 \"/>\n",
       "<polyline clip-path=\"url(#clip770)\" style=\"stroke:#000000; stroke-linecap:round; stroke-linejoin:round; stroke-width:4; stroke-opacity:1; fill:none\" points=\"155.765,552.466 174.663,552.466 \"/>\n",
       "<polyline clip-path=\"url(#clip770)\" style=\"stroke:#000000; stroke-linecap:round; stroke-linejoin:round; stroke-width:4; stroke-opacity:1; fill:none\" points=\"155.765,237.956 174.663,237.956 \"/>\n",
       "<path clip-path=\"url(#clip770)\" d=\"M63.5847 1167.29 Q59.9736 1167.29 58.1449 1170.85 Q56.3393 1174.39 56.3393 1181.52 Q56.3393 1188.63 58.1449 1192.19 Q59.9736 1195.73 63.5847 1195.73 Q67.2189 1195.73 69.0244 1192.19 Q70.8531 1188.63 70.8531 1181.52 Q70.8531 1174.39 69.0244 1170.85 Q67.2189 1167.29 63.5847 1167.29 M63.5847 1163.58 Q69.3948 1163.58 72.4503 1168.19 Q75.529 1172.77 75.529 1181.52 Q75.529 1190.25 72.4503 1194.85 Q69.3948 1199.44 63.5847 1199.44 Q57.7745 1199.44 54.6958 1194.85 Q51.6403 1190.25 51.6403 1181.52 Q51.6403 1172.77 54.6958 1168.19 Q57.7745 1163.58 63.5847 1163.58 Z\" fill=\"#000000\" fill-rule=\"nonzero\" fill-opacity=\"1\" /><path clip-path=\"url(#clip770)\" d=\"M83.7466 1192.89 L88.6308 1192.89 L88.6308 1198.77 L83.7466 1198.77 L83.7466 1192.89 Z\" fill=\"#000000\" fill-rule=\"nonzero\" fill-opacity=\"1\" /><path clip-path=\"url(#clip770)\" d=\"M98.8622 1164.21 L117.219 1164.21 L117.219 1168.14 L103.145 1168.14 L103.145 1176.61 Q104.163 1176.27 105.182 1176.11 Q106.2 1175.92 107.219 1175.92 Q113.006 1175.92 116.385 1179.09 Q119.765 1182.26 119.765 1187.68 Q119.765 1193.26 116.293 1196.36 Q112.82 1199.44 106.501 1199.44 Q104.325 1199.44 102.057 1199.07 Q99.8113 1198.7 97.4039 1197.96 L97.4039 1193.26 Q99.4872 1194.39 101.709 1194.95 Q103.932 1195.5 106.408 1195.5 Q110.413 1195.5 112.751 1193.4 Q115.089 1191.29 115.089 1187.68 Q115.089 1184.07 112.751 1181.96 Q110.413 1179.86 106.408 1179.86 Q104.534 1179.86 102.659 1180.27 Q100.807 1180.69 98.8622 1181.57 L98.8622 1164.21 Z\" fill=\"#000000\" fill-rule=\"nonzero\" fill-opacity=\"1\" /><path clip-path=\"url(#clip770)\" d=\"M53.3995 880.321 L61.0384 880.321 L61.0384 853.956 L52.7282 855.623 L52.7282 851.363 L60.9921 849.697 L65.668 849.697 L65.668 880.321 L73.3068 880.321 L73.3068 884.257 L53.3995 884.257 L53.3995 880.321 Z\" fill=\"#000000\" fill-rule=\"nonzero\" fill-opacity=\"1\" /><path clip-path=\"url(#clip770)\" d=\"M82.7512 878.377 L87.6354 878.377 L87.6354 884.257 L82.7512 884.257 L82.7512 878.377 Z\" fill=\"#000000\" fill-rule=\"nonzero\" fill-opacity=\"1\" /><path clip-path=\"url(#clip770)\" d=\"M107.821 852.775 Q104.209 852.775 102.381 856.34 Q100.575 859.882 100.575 867.011 Q100.575 874.118 102.381 877.683 Q104.209 881.224 107.821 881.224 Q111.455 881.224 113.26 877.683 Q115.089 874.118 115.089 867.011 Q115.089 859.882 113.26 856.34 Q111.455 852.775 107.821 852.775 M107.821 849.072 Q113.631 849.072 116.686 853.678 Q119.765 858.261 119.765 867.011 Q119.765 875.738 116.686 880.345 Q113.631 884.928 107.821 884.928 Q102.01 884.928 98.9317 880.345 Q95.8761 875.738 95.8761 867.011 Q95.8761 858.261 98.9317 853.678 Q102.01 849.072 107.821 849.072 Z\" fill=\"#000000\" fill-rule=\"nonzero\" fill-opacity=\"1\" /><path clip-path=\"url(#clip770)\" d=\"M54.3949 565.811 L62.0337 565.811 L62.0337 539.446 L53.7236 541.112 L53.7236 536.853 L61.9874 535.186 L66.6633 535.186 L66.6633 565.811 L74.3022 565.811 L74.3022 569.746 L54.3949 569.746 L54.3949 565.811 Z\" fill=\"#000000\" fill-rule=\"nonzero\" fill-opacity=\"1\" /><path clip-path=\"url(#clip770)\" d=\"M83.7466 563.867 L88.6308 563.867 L88.6308 569.746 L83.7466 569.746 L83.7466 563.867 Z\" fill=\"#000000\" fill-rule=\"nonzero\" fill-opacity=\"1\" /><path clip-path=\"url(#clip770)\" d=\"M98.8622 535.186 L117.219 535.186 L117.219 539.121 L103.145 539.121 L103.145 547.594 Q104.163 547.246 105.182 547.084 Q106.2 546.899 107.219 546.899 Q113.006 546.899 116.385 550.07 Q119.765 553.242 119.765 558.658 Q119.765 564.237 116.293 567.339 Q112.82 570.418 106.501 570.418 Q104.325 570.418 102.057 570.047 Q99.8113 569.677 97.4039 568.936 L97.4039 564.237 Q99.4872 565.371 101.709 565.927 Q103.932 566.482 106.408 566.482 Q110.413 566.482 112.751 564.376 Q115.089 562.269 115.089 558.658 Q115.089 555.047 112.751 552.941 Q110.413 550.834 106.408 550.834 Q104.534 550.834 102.659 551.251 Q100.807 551.668 98.8622 552.547 L98.8622 535.186 Z\" fill=\"#000000\" fill-rule=\"nonzero\" fill-opacity=\"1\" /><path clip-path=\"url(#clip770)\" d=\"M56.6171 251.301 L72.9365 251.301 L72.9365 255.236 L50.9921 255.236 L50.9921 251.301 Q53.6541 248.546 58.2375 243.917 Q62.8439 239.264 64.0245 237.921 Q66.2698 235.398 67.1494 233.662 Q68.0522 231.903 68.0522 230.213 Q68.0522 227.458 66.1078 225.722 Q64.1865 223.986 61.0847 223.986 Q58.8856 223.986 56.4319 224.75 Q54.0014 225.514 51.2236 227.065 L51.2236 222.343 Q54.0477 221.208 56.5014 220.63 Q58.955 220.051 60.9921 220.051 Q66.3624 220.051 69.5568 222.736 Q72.7513 225.421 72.7513 229.912 Q72.7513 232.042 71.9411 233.963 Q71.1541 235.861 69.0476 238.454 Q68.4689 239.125 65.367 242.342 Q62.2652 245.537 56.6171 251.301 Z\" fill=\"#000000\" fill-rule=\"nonzero\" fill-opacity=\"1\" /><path clip-path=\"url(#clip770)\" d=\"M82.7512 249.356 L87.6354 249.356 L87.6354 255.236 L82.7512 255.236 L82.7512 249.356 Z\" fill=\"#000000\" fill-rule=\"nonzero\" fill-opacity=\"1\" /><path clip-path=\"url(#clip770)\" d=\"M107.821 223.755 Q104.209 223.755 102.381 227.319 Q100.575 230.861 100.575 237.991 Q100.575 245.097 102.381 248.662 Q104.209 252.204 107.821 252.204 Q111.455 252.204 113.26 248.662 Q115.089 245.097 115.089 237.991 Q115.089 230.861 113.26 227.319 Q111.455 223.755 107.821 223.755 M107.821 220.051 Q113.631 220.051 116.686 224.657 Q119.765 229.241 119.765 237.991 Q119.765 246.717 116.686 251.324 Q113.631 255.907 107.821 255.907 Q102.01 255.907 98.9317 251.324 Q95.8761 246.717 95.8761 237.991 Q95.8761 229.241 98.9317 224.657 Q102.01 220.051 107.821 220.051 Z\" fill=\"#000000\" fill-rule=\"nonzero\" fill-opacity=\"1\" /><polyline clip-path=\"url(#clip772)\" style=\"stroke:#008000; stroke-linecap:round; stroke-linejoin:round; stroke-width:4; stroke-opacity:1; fill:none\" points=\"223.293,87.9763 228.643,95.192 233.992,102.348 239.341,109.446 270.672,149.857 302.002,188.35 333.332,225.006 364.663,259.902 379.238,275.556 393.813,290.852 408.388,305.796 422.963,320.396 442.498,339.435 462.034,357.881 481.57,375.748 501.106,393.051 533.391,420.443 565.676,446.387 595.698,469.261 625.72,490.971 663.408,516.638 701.096,540.608 734.903,560.72 768.709,579.567 807.405,599.644 846.101,618.184 875.026,631.072 903.951,643.156 940.947,657.473 977.943,670.554 1011.71,681.446 1045.48,691.37 1083.91,701.522 1122.34,710.493 1152.8,716.79 1183.27,722.384 1221.11,728.38 1258.96,733.347 1287.95,736.473 1316.93,739.023 1357.8,741.664 1398.66,743.216 1429.2,743.682 1459.74,743.568 1494.47,742.747 1529.2,741.207 1563.59,738.988 1597.98,736.092 1635.82,732.142 1673.66,727.408 1702.56,723.275 1731.47,718.701 1767.94,712.313 1804.41,705.249 1838.14,698.126 1871.88,690.447 1906.67,681.956 1941.46,672.894 1976.72,663.137 2011.98,652.815 2048.81,641.444 2085.63,629.478 2114.63,619.64 2143.64,609.444 2209.7,584.915 2275.75,558.608 2283.17,555.548 2290.58,552.466 \"/>\n",
       "<polyline clip-path=\"url(#clip772)\" style=\"stroke:#ff0000; stroke-linecap:round; stroke-linejoin:round; stroke-width:4; stroke-opacity:1; fill:none\" points=\"223.293,245.239 228.643,252.476 233.992,259.667 239.341,266.815 270.672,307.808 302.002,347.389 333.332,385.658 364.663,422.711 393.813,456.179 422.963,488.757 462.034,531.165 501.106,572.308 565.676,638.048 625.72,697.357 701.096,770.539 768.709,836.208 846.101,912.986 903.951,972.467 940.947,1011.75 977.943,1052.12 1011.71,1089.92 1045.48,1128.59 1122.34,1218.81 1183.27,1289.9 1202.19,1311.21 1221.11,1331.86 1240.04,1351.63 1258.96,1370.29 1273.45,1383.67 1287.95,1396.11 1302.44,1407.5 1316.93,1417.68 1327.15,1424.06 1337.37,1429.72 1347.58,1434.61 1357.8,1438.68 1368.01,1441.87 1378.23,1444.14 1388.45,1445.44 1398.66,1445.72 1413.93,1444.14 1429.2,1440.06 1444.47,1433.38 1459.74,1423.99 1468.42,1417.43 1477.1,1409.97 1485.79,1401.62 1494.47,1392.37 1503.15,1382.24 1511.83,1371.23 1520.52,1359.36 1529.2,1346.65 1546.39,1319.1 1563.59,1288.6 1580.79,1255.47 1597.98,1220.07 1616.9,1179.01 1635.82,1136.35 1654.74,1092.74 1673.66,1048.85 1702.56,982.816 1731.47,919.955 1749.7,882.819 1767.94,848.128 1786.18,816.21 1804.41,787.312 1821.28,763.424 1838.14,742.345 1855.01,724.102 1871.88,708.678 1889.27,695.661 1906.67,685.48 1924.06,678.003 1941.46,673.078 1959.09,670.514 1976.72,670.209 1994.35,671.971 2011.98,675.608 2030.4,681.203 2048.81,688.434 2067.22,697.109 2085.63,707.049 2100.13,715.663 2114.63,724.889 2129.14,734.66 2143.64,744.917 2176.67,769.816 2209.7,796.451 2242.73,824.453 2275.75,853.578 2279.46,856.91 2283.17,860.253 2286.87,863.609 2290.58,866.977 \"/>\n",
       "<path clip-path=\"url(#clip770)\" d=\"M2007.39 250.738 L2279.52 250.738 L2279.52 95.2176 L2007.39 95.2176  Z\" fill=\"#ffffff\" fill-rule=\"evenodd\" fill-opacity=\"1\"/>\n",
       "<polyline clip-path=\"url(#clip770)\" style=\"stroke:#000000; stroke-linecap:round; stroke-linejoin:round; stroke-width:4; stroke-opacity:1; fill:none\" points=\"2007.39,250.738 2279.52,250.738 2279.52,95.2176 2007.39,95.2176 2007.39,250.738 \"/>\n",
       "<polyline clip-path=\"url(#clip770)\" style=\"stroke:#008000; stroke-linecap:round; stroke-linejoin:round; stroke-width:4; stroke-opacity:1; fill:none\" points=\"2031.8,147.058 2178.27,147.058 \"/>\n",
       "<path clip-path=\"url(#clip770)\" d=\"M2216.52 166.745 Q2214.72 171.375 2213.01 172.787 Q2211.29 174.199 2208.42 174.199 L2205.02 174.199 L2205.02 170.634 L2207.52 170.634 Q2209.28 170.634 2210.25 169.8 Q2211.22 168.967 2212.4 165.865 L2213.17 163.921 L2202.68 138.412 L2207.2 138.412 L2215.3 158.689 L2223.4 138.412 L2227.91 138.412 L2216.52 166.745 Z\" fill=\"#000000\" fill-rule=\"nonzero\" fill-opacity=\"1\" /><path clip-path=\"url(#clip770)\" d=\"M2235.2 160.402 L2242.84 160.402 L2242.84 134.037 L2234.53 135.703 L2234.53 131.444 L2242.8 129.778 L2247.47 129.778 L2247.47 160.402 L2255.11 160.402 L2255.11 164.338 L2235.2 164.338 L2235.2 160.402 Z\" fill=\"#000000\" fill-rule=\"nonzero\" fill-opacity=\"1\" /><polyline clip-path=\"url(#clip770)\" style=\"stroke:#ff0000; stroke-linecap:round; stroke-linejoin:round; stroke-width:4; stroke-opacity:1; fill:none\" points=\"2031.8,198.898 2178.27,198.898 \"/>\n",
       "<path clip-path=\"url(#clip770)\" d=\"M2216.52 218.585 Q2214.72 223.215 2213.01 224.627 Q2211.29 226.039 2208.42 226.039 L2205.02 226.039 L2205.02 222.474 L2207.52 222.474 Q2209.28 222.474 2210.25 221.64 Q2211.22 220.807 2212.4 217.705 L2213.17 215.761 L2202.68 190.252 L2207.2 190.252 L2215.3 210.529 L2223.4 190.252 L2227.91 190.252 L2216.52 218.585 Z\" fill=\"#000000\" fill-rule=\"nonzero\" fill-opacity=\"1\" /><path clip-path=\"url(#clip770)\" d=\"M2238.42 212.242 L2254.74 212.242 L2254.74 216.178 L2232.8 216.178 L2232.8 212.242 Q2235.46 209.488 2240.04 204.858 Q2244.65 200.205 2245.83 198.863 Q2248.07 196.34 2248.95 194.604 Q2249.86 192.844 2249.86 191.155 Q2249.86 188.4 2247.91 186.664 Q2245.99 184.928 2242.89 184.928 Q2240.69 184.928 2238.24 185.692 Q2235.81 186.455 2233.03 188.006 L2233.03 183.284 Q2235.85 182.15 2238.31 181.571 Q2240.76 180.993 2242.8 180.993 Q2248.17 180.993 2251.36 183.678 Q2254.56 186.363 2254.56 190.854 Q2254.56 192.983 2253.75 194.905 Q2252.96 196.803 2250.85 199.395 Q2250.27 200.067 2247.17 203.284 Q2244.07 206.479 2238.42 212.242 Z\" fill=\"#000000\" fill-rule=\"nonzero\" fill-opacity=\"1\" /></svg>\n"
      ],
      "text/html": [
       "<?xml version=\"1.0\" encoding=\"utf-8\"?>\n",
       "<svg xmlns=\"http://www.w3.org/2000/svg\" xmlns:xlink=\"http://www.w3.org/1999/xlink\" width=\"600\" height=\"400\" viewBox=\"0 0 2400 1600\">\n",
       "<defs>\n",
       "  <clipPath id=\"clip820\">\n",
       "    <rect x=\"0\" y=\"0\" width=\"2400\" height=\"1600\"/>\n",
       "  </clipPath>\n",
       "</defs>\n",
       "<path clip-path=\"url(#clip820)\" d=\"M0 1600 L2400 1600 L2400 0 L0 0  Z\" fill=\"#ffffff\" fill-rule=\"evenodd\" fill-opacity=\"1\"/>\n",
       "<defs>\n",
       "  <clipPath id=\"clip821\">\n",
       "    <rect x=\"480\" y=\"0\" width=\"1681\" height=\"1600\"/>\n",
       "  </clipPath>\n",
       "</defs>\n",
       "<path clip-path=\"url(#clip820)\" d=\"M155.765 1486.45 L2352.76 1486.45 L2352.76 47.2441 L155.765 47.2441  Z\" fill=\"#ffffff\" fill-rule=\"evenodd\" fill-opacity=\"1\"/>\n",
       "<defs>\n",
       "  <clipPath id=\"clip822\">\n",
       "    <rect x=\"155\" y=\"47\" width=\"2198\" height=\"1440\"/>\n",
       "  </clipPath>\n",
       "</defs>\n",
       "<polyline clip-path=\"url(#clip822)\" style=\"stroke:#000000; stroke-linecap:round; stroke-linejoin:round; stroke-width:2; stroke-opacity:0.1; fill:none\" points=\"217.944,1486.45 217.944,47.2441 \"/>\n",
       "<polyline clip-path=\"url(#clip822)\" style=\"stroke:#000000; stroke-linecap:round; stroke-linejoin:round; stroke-width:2; stroke-opacity:0.1; fill:none\" points=\"736.102,1486.45 736.102,47.2441 \"/>\n",
       "<polyline clip-path=\"url(#clip822)\" style=\"stroke:#000000; stroke-linecap:round; stroke-linejoin:round; stroke-width:2; stroke-opacity:0.1; fill:none\" points=\"1254.26,1486.45 1254.26,47.2441 \"/>\n",
       "<polyline clip-path=\"url(#clip822)\" style=\"stroke:#000000; stroke-linecap:round; stroke-linejoin:round; stroke-width:2; stroke-opacity:0.1; fill:none\" points=\"1772.42,1486.45 1772.42,47.2441 \"/>\n",
       "<polyline clip-path=\"url(#clip822)\" style=\"stroke:#000000; stroke-linecap:round; stroke-linejoin:round; stroke-width:2; stroke-opacity:0.1; fill:none\" points=\"2290.58,1486.45 2290.58,47.2441 \"/>\n",
       "<polyline clip-path=\"url(#clip822)\" style=\"stroke:#000000; stroke-linecap:round; stroke-linejoin:round; stroke-width:2; stroke-opacity:0.1; fill:none\" points=\"155.765,1181.49 2352.76,1181.49 \"/>\n",
       "<polyline clip-path=\"url(#clip822)\" style=\"stroke:#000000; stroke-linecap:round; stroke-linejoin:round; stroke-width:2; stroke-opacity:0.1; fill:none\" points=\"155.765,866.977 2352.76,866.977 \"/>\n",
       "<polyline clip-path=\"url(#clip822)\" style=\"stroke:#000000; stroke-linecap:round; stroke-linejoin:round; stroke-width:2; stroke-opacity:0.1; fill:none\" points=\"155.765,552.466 2352.76,552.466 \"/>\n",
       "<polyline clip-path=\"url(#clip822)\" style=\"stroke:#000000; stroke-linecap:round; stroke-linejoin:round; stroke-width:2; stroke-opacity:0.1; fill:none\" points=\"155.765,237.956 2352.76,237.956 \"/>\n",
       "<polyline clip-path=\"url(#clip820)\" style=\"stroke:#000000; stroke-linecap:round; stroke-linejoin:round; stroke-width:4; stroke-opacity:1; fill:none\" points=\"155.765,1486.45 2352.76,1486.45 \"/>\n",
       "<polyline clip-path=\"url(#clip820)\" style=\"stroke:#000000; stroke-linecap:round; stroke-linejoin:round; stroke-width:4; stroke-opacity:1; fill:none\" points=\"217.944,1486.45 217.944,1467.55 \"/>\n",
       "<polyline clip-path=\"url(#clip820)\" style=\"stroke:#000000; stroke-linecap:round; stroke-linejoin:round; stroke-width:4; stroke-opacity:1; fill:none\" points=\"736.102,1486.45 736.102,1467.55 \"/>\n",
       "<polyline clip-path=\"url(#clip820)\" style=\"stroke:#000000; stroke-linecap:round; stroke-linejoin:round; stroke-width:4; stroke-opacity:1; fill:none\" points=\"1254.26,1486.45 1254.26,1467.55 \"/>\n",
       "<polyline clip-path=\"url(#clip820)\" style=\"stroke:#000000; stroke-linecap:round; stroke-linejoin:round; stroke-width:4; stroke-opacity:1; fill:none\" points=\"1772.42,1486.45 1772.42,1467.55 \"/>\n",
       "<polyline clip-path=\"url(#clip820)\" style=\"stroke:#000000; stroke-linecap:round; stroke-linejoin:round; stroke-width:4; stroke-opacity:1; fill:none\" points=\"2290.58,1486.45 2290.58,1467.55 \"/>\n",
       "<path clip-path=\"url(#clip820)\" d=\"M180.247 1517.37 Q176.636 1517.37 174.808 1520.93 Q173.002 1524.47 173.002 1531.6 Q173.002 1538.71 174.808 1542.27 Q176.636 1545.82 180.247 1545.82 Q183.882 1545.82 185.687 1542.27 Q187.516 1538.71 187.516 1531.6 Q187.516 1524.47 185.687 1520.93 Q183.882 1517.37 180.247 1517.37 M180.247 1513.66 Q186.057 1513.66 189.113 1518.27 Q192.192 1522.85 192.192 1531.6 Q192.192 1540.33 189.113 1544.94 Q186.057 1549.52 180.247 1549.52 Q174.437 1549.52 171.358 1544.94 Q168.303 1540.33 168.303 1531.6 Q168.303 1522.85 171.358 1518.27 Q174.437 1513.66 180.247 1513.66 Z\" fill=\"#000000\" fill-rule=\"nonzero\" fill-opacity=\"1\" /><path clip-path=\"url(#clip820)\" d=\"M200.409 1542.97 L205.294 1542.97 L205.294 1548.85 L200.409 1548.85 L200.409 1542.97 Z\" fill=\"#000000\" fill-rule=\"nonzero\" fill-opacity=\"1\" /><path clip-path=\"url(#clip820)\" d=\"M225.479 1517.37 Q221.867 1517.37 220.039 1520.93 Q218.233 1524.47 218.233 1531.6 Q218.233 1538.71 220.039 1542.27 Q221.867 1545.82 225.479 1545.82 Q229.113 1545.82 230.918 1542.27 Q232.747 1538.71 232.747 1531.6 Q232.747 1524.47 230.918 1520.93 Q229.113 1517.37 225.479 1517.37 M225.479 1513.66 Q231.289 1513.66 234.344 1518.27 Q237.423 1522.85 237.423 1531.6 Q237.423 1540.33 234.344 1544.94 Q231.289 1549.52 225.479 1549.52 Q219.668 1549.52 216.59 1544.94 Q213.534 1540.33 213.534 1531.6 Q213.534 1522.85 216.59 1518.27 Q219.668 1513.66 225.479 1513.66 Z\" fill=\"#000000\" fill-rule=\"nonzero\" fill-opacity=\"1\" /><path clip-path=\"url(#clip820)\" d=\"M255.64 1517.37 Q252.029 1517.37 250.201 1520.93 Q248.395 1524.47 248.395 1531.6 Q248.395 1538.71 250.201 1542.27 Q252.029 1545.82 255.64 1545.82 Q259.275 1545.82 261.08 1542.27 Q262.909 1538.71 262.909 1531.6 Q262.909 1524.47 261.08 1520.93 Q259.275 1517.37 255.64 1517.37 M255.64 1513.66 Q261.451 1513.66 264.506 1518.27 Q267.585 1522.85 267.585 1531.6 Q267.585 1540.33 264.506 1544.94 Q261.451 1549.52 255.64 1549.52 Q249.83 1549.52 246.752 1544.94 Q243.696 1540.33 243.696 1531.6 Q243.696 1522.85 246.752 1518.27 Q249.83 1513.66 255.64 1513.66 Z\" fill=\"#000000\" fill-rule=\"nonzero\" fill-opacity=\"1\" /><path clip-path=\"url(#clip820)\" d=\"M698.903 1517.37 Q695.292 1517.37 693.463 1520.93 Q691.658 1524.47 691.658 1531.6 Q691.658 1538.71 693.463 1542.27 Q695.292 1545.82 698.903 1545.82 Q702.538 1545.82 704.343 1542.27 Q706.172 1538.71 706.172 1531.6 Q706.172 1524.47 704.343 1520.93 Q702.538 1517.37 698.903 1517.37 M698.903 1513.66 Q704.713 1513.66 707.769 1518.27 Q710.848 1522.85 710.848 1531.6 Q710.848 1540.33 707.769 1544.94 Q704.713 1549.52 698.903 1549.52 Q693.093 1549.52 690.014 1544.94 Q686.959 1540.33 686.959 1531.6 Q686.959 1522.85 690.014 1518.27 Q693.093 1513.66 698.903 1513.66 Z\" fill=\"#000000\" fill-rule=\"nonzero\" fill-opacity=\"1\" /><path clip-path=\"url(#clip820)\" d=\"M719.065 1542.97 L723.949 1542.97 L723.949 1548.85 L719.065 1548.85 L719.065 1542.97 Z\" fill=\"#000000\" fill-rule=\"nonzero\" fill-opacity=\"1\" /><path clip-path=\"url(#clip820)\" d=\"M738.162 1544.91 L754.482 1544.91 L754.482 1548.85 L732.537 1548.85 L732.537 1544.91 Q735.199 1542.16 739.783 1537.53 Q744.389 1532.88 745.57 1531.53 Q747.815 1529.01 748.695 1527.27 Q749.597 1525.51 749.597 1523.82 Q749.597 1521.07 747.653 1519.33 Q745.732 1517.6 742.63 1517.6 Q740.431 1517.6 737.977 1518.36 Q735.547 1519.13 732.769 1520.68 L732.769 1515.95 Q735.593 1514.82 738.047 1514.24 Q740.5 1513.66 742.537 1513.66 Q747.908 1513.66 751.102 1516.35 Q754.296 1519.03 754.296 1523.52 Q754.296 1525.65 753.486 1527.57 Q752.699 1529.47 750.593 1532.07 Q750.014 1532.74 746.912 1535.95 Q743.81 1539.15 738.162 1544.91 Z\" fill=\"#000000\" fill-rule=\"nonzero\" fill-opacity=\"1\" /><path clip-path=\"url(#clip820)\" d=\"M764.343 1514.29 L782.699 1514.29 L782.699 1518.22 L768.625 1518.22 L768.625 1526.7 Q769.644 1526.35 770.662 1526.19 Q771.681 1526 772.699 1526 Q778.486 1526 781.866 1529.17 Q785.245 1532.34 785.245 1537.76 Q785.245 1543.34 781.773 1546.44 Q778.301 1549.52 771.982 1549.52 Q769.806 1549.52 767.537 1549.15 Q765.292 1548.78 762.884 1548.04 L762.884 1543.34 Q764.968 1544.47 767.19 1545.03 Q769.412 1545.58 771.889 1545.58 Q775.894 1545.58 778.232 1543.48 Q780.57 1541.37 780.57 1537.76 Q780.57 1534.15 778.232 1532.04 Q775.894 1529.94 771.889 1529.94 Q770.014 1529.94 768.139 1530.35 Q766.287 1530.77 764.343 1531.65 L764.343 1514.29 Z\" fill=\"#000000\" fill-rule=\"nonzero\" fill-opacity=\"1\" /><path clip-path=\"url(#clip820)\" d=\"M1216.56 1517.37 Q1212.95 1517.37 1211.12 1520.93 Q1209.32 1524.47 1209.32 1531.6 Q1209.32 1538.71 1211.12 1542.27 Q1212.95 1545.82 1216.56 1545.82 Q1220.2 1545.82 1222 1542.27 Q1223.83 1538.71 1223.83 1531.6 Q1223.83 1524.47 1222 1520.93 Q1220.2 1517.37 1216.56 1517.37 M1216.56 1513.66 Q1222.37 1513.66 1225.43 1518.27 Q1228.51 1522.85 1228.51 1531.6 Q1228.51 1540.33 1225.43 1544.94 Q1222.37 1549.52 1216.56 1549.52 Q1210.75 1549.52 1207.68 1544.94 Q1204.62 1540.33 1204.62 1531.6 Q1204.62 1522.85 1207.68 1518.27 Q1210.75 1513.66 1216.56 1513.66 Z\" fill=\"#000000\" fill-rule=\"nonzero\" fill-opacity=\"1\" /><path clip-path=\"url(#clip820)\" d=\"M1236.73 1542.97 L1241.61 1542.97 L1241.61 1548.85 L1236.73 1548.85 L1236.73 1542.97 Z\" fill=\"#000000\" fill-rule=\"nonzero\" fill-opacity=\"1\" /><path clip-path=\"url(#clip820)\" d=\"M1251.84 1514.29 L1270.2 1514.29 L1270.2 1518.22 L1256.12 1518.22 L1256.12 1526.7 Q1257.14 1526.35 1258.16 1526.19 Q1259.18 1526 1260.2 1526 Q1265.98 1526 1269.36 1529.17 Q1272.74 1532.34 1272.74 1537.76 Q1272.74 1543.34 1269.27 1546.44 Q1265.8 1549.52 1259.48 1549.52 Q1257.3 1549.52 1255.04 1549.15 Q1252.79 1548.78 1250.38 1548.04 L1250.38 1543.34 Q1252.47 1544.47 1254.69 1545.03 Q1256.91 1545.58 1259.39 1545.58 Q1263.39 1545.58 1265.73 1543.48 Q1268.07 1541.37 1268.07 1537.76 Q1268.07 1534.15 1265.73 1532.04 Q1263.39 1529.94 1259.39 1529.94 Q1257.51 1529.94 1255.64 1530.35 Q1253.79 1530.77 1251.84 1531.65 L1251.84 1514.29 Z\" fill=\"#000000\" fill-rule=\"nonzero\" fill-opacity=\"1\" /><path clip-path=\"url(#clip820)\" d=\"M1291.96 1517.37 Q1288.35 1517.37 1286.52 1520.93 Q1284.71 1524.47 1284.71 1531.6 Q1284.71 1538.71 1286.52 1542.27 Q1288.35 1545.82 1291.96 1545.82 Q1295.59 1545.82 1297.4 1542.27 Q1299.23 1538.71 1299.23 1531.6 Q1299.23 1524.47 1297.4 1520.93 Q1295.59 1517.37 1291.96 1517.37 M1291.96 1513.66 Q1297.77 1513.66 1300.82 1518.27 Q1303.9 1522.85 1303.9 1531.6 Q1303.9 1540.33 1300.82 1544.94 Q1297.77 1549.52 1291.96 1549.52 Q1286.15 1549.52 1283.07 1544.94 Q1280.01 1540.33 1280.01 1531.6 Q1280.01 1522.85 1283.07 1518.27 Q1286.15 1513.66 1291.96 1513.66 Z\" fill=\"#000000\" fill-rule=\"nonzero\" fill-opacity=\"1\" /><path clip-path=\"url(#clip820)\" d=\"M1735.22 1517.37 Q1731.61 1517.37 1729.78 1520.93 Q1727.97 1524.47 1727.97 1531.6 Q1727.97 1538.71 1729.78 1542.27 Q1731.61 1545.82 1735.22 1545.82 Q1738.85 1545.82 1740.66 1542.27 Q1742.49 1538.71 1742.49 1531.6 Q1742.49 1524.47 1740.66 1520.93 Q1738.85 1517.37 1735.22 1517.37 M1735.22 1513.66 Q1741.03 1513.66 1744.09 1518.27 Q1747.16 1522.85 1747.16 1531.6 Q1747.16 1540.33 1744.09 1544.94 Q1741.03 1549.52 1735.22 1549.52 Q1729.41 1549.52 1726.33 1544.94 Q1723.28 1540.33 1723.28 1531.6 Q1723.28 1522.85 1726.33 1518.27 Q1729.41 1513.66 1735.22 1513.66 Z\" fill=\"#000000\" fill-rule=\"nonzero\" fill-opacity=\"1\" /><path clip-path=\"url(#clip820)\" d=\"M1755.38 1542.97 L1760.27 1542.97 L1760.27 1548.85 L1755.38 1548.85 L1755.38 1542.97 Z\" fill=\"#000000\" fill-rule=\"nonzero\" fill-opacity=\"1\" /><path clip-path=\"url(#clip820)\" d=\"M1769.27 1514.29 L1791.49 1514.29 L1791.49 1516.28 L1778.95 1548.85 L1774.06 1548.85 L1785.87 1518.22 L1769.27 1518.22 L1769.27 1514.29 Z\" fill=\"#000000\" fill-rule=\"nonzero\" fill-opacity=\"1\" /><path clip-path=\"url(#clip820)\" d=\"M1800.66 1514.29 L1819.02 1514.29 L1819.02 1518.22 L1804.94 1518.22 L1804.94 1526.7 Q1805.96 1526.35 1806.98 1526.19 Q1808 1526 1809.02 1526 Q1814.8 1526 1818.18 1529.17 Q1821.56 1532.34 1821.56 1537.76 Q1821.56 1543.34 1818.09 1546.44 Q1814.62 1549.52 1808.3 1549.52 Q1806.12 1549.52 1803.85 1549.15 Q1801.61 1548.78 1799.2 1548.04 L1799.2 1543.34 Q1801.28 1544.47 1803.51 1545.03 Q1805.73 1545.58 1808.21 1545.58 Q1812.21 1545.58 1814.55 1543.48 Q1816.89 1541.37 1816.89 1537.76 Q1816.89 1534.15 1814.55 1532.04 Q1812.21 1529.94 1808.21 1529.94 Q1806.33 1529.94 1804.46 1530.35 Q1802.6 1530.77 1800.66 1531.65 L1800.66 1514.29 Z\" fill=\"#000000\" fill-rule=\"nonzero\" fill-opacity=\"1\" /><path clip-path=\"url(#clip820)\" d=\"M2242.65 1544.91 L2250.29 1544.91 L2250.29 1518.55 L2241.98 1520.21 L2241.98 1515.95 L2250.24 1514.29 L2254.92 1514.29 L2254.92 1544.91 L2262.56 1544.91 L2262.56 1548.85 L2242.65 1548.85 L2242.65 1544.91 Z\" fill=\"#000000\" fill-rule=\"nonzero\" fill-opacity=\"1\" /><path clip-path=\"url(#clip820)\" d=\"M2272 1542.97 L2276.88 1542.97 L2276.88 1548.85 L2272 1548.85 L2272 1542.97 Z\" fill=\"#000000\" fill-rule=\"nonzero\" fill-opacity=\"1\" /><path clip-path=\"url(#clip820)\" d=\"M2297.07 1517.37 Q2293.46 1517.37 2291.63 1520.93 Q2289.82 1524.47 2289.82 1531.6 Q2289.82 1538.71 2291.63 1542.27 Q2293.46 1545.82 2297.07 1545.82 Q2300.7 1545.82 2302.51 1542.27 Q2304.34 1538.71 2304.34 1531.6 Q2304.34 1524.47 2302.51 1520.93 Q2300.7 1517.37 2297.07 1517.37 M2297.07 1513.66 Q2302.88 1513.66 2305.94 1518.27 Q2309.01 1522.85 2309.01 1531.6 Q2309.01 1540.33 2305.94 1544.94 Q2302.88 1549.52 2297.07 1549.52 Q2291.26 1549.52 2288.18 1544.94 Q2285.13 1540.33 2285.13 1531.6 Q2285.13 1522.85 2288.18 1518.27 Q2291.26 1513.66 2297.07 1513.66 Z\" fill=\"#000000\" fill-rule=\"nonzero\" fill-opacity=\"1\" /><path clip-path=\"url(#clip820)\" d=\"M2327.23 1517.37 Q2323.62 1517.37 2321.79 1520.93 Q2319.99 1524.47 2319.99 1531.6 Q2319.99 1538.71 2321.79 1542.27 Q2323.62 1545.82 2327.23 1545.82 Q2330.87 1545.82 2332.67 1542.27 Q2334.5 1538.71 2334.5 1531.6 Q2334.5 1524.47 2332.67 1520.93 Q2330.87 1517.37 2327.23 1517.37 M2327.23 1513.66 Q2333.04 1513.66 2336.1 1518.27 Q2339.18 1522.85 2339.18 1531.6 Q2339.18 1540.33 2336.1 1544.94 Q2333.04 1549.52 2327.23 1549.52 Q2321.42 1549.52 2318.34 1544.94 Q2315.29 1540.33 2315.29 1531.6 Q2315.29 1522.85 2318.34 1518.27 Q2321.42 1513.66 2327.23 1513.66 Z\" fill=\"#000000\" fill-rule=\"nonzero\" fill-opacity=\"1\" /><polyline clip-path=\"url(#clip820)\" style=\"stroke:#000000; stroke-linecap:round; stroke-linejoin:round; stroke-width:4; stroke-opacity:1; fill:none\" points=\"155.765,1486.45 155.765,47.2441 \"/>\n",
       "<polyline clip-path=\"url(#clip820)\" style=\"stroke:#000000; stroke-linecap:round; stroke-linejoin:round; stroke-width:4; stroke-opacity:1; fill:none\" points=\"155.765,1181.49 174.663,1181.49 \"/>\n",
       "<polyline clip-path=\"url(#clip820)\" style=\"stroke:#000000; stroke-linecap:round; stroke-linejoin:round; stroke-width:4; stroke-opacity:1; fill:none\" points=\"155.765,866.977 174.663,866.977 \"/>\n",
       "<polyline clip-path=\"url(#clip820)\" style=\"stroke:#000000; stroke-linecap:round; stroke-linejoin:round; stroke-width:4; stroke-opacity:1; fill:none\" points=\"155.765,552.466 174.663,552.466 \"/>\n",
       "<polyline clip-path=\"url(#clip820)\" style=\"stroke:#000000; stroke-linecap:round; stroke-linejoin:round; stroke-width:4; stroke-opacity:1; fill:none\" points=\"155.765,237.956 174.663,237.956 \"/>\n",
       "<path clip-path=\"url(#clip820)\" d=\"M63.5847 1167.29 Q59.9736 1167.29 58.1449 1170.85 Q56.3393 1174.39 56.3393 1181.52 Q56.3393 1188.63 58.1449 1192.19 Q59.9736 1195.73 63.5847 1195.73 Q67.2189 1195.73 69.0244 1192.19 Q70.8531 1188.63 70.8531 1181.52 Q70.8531 1174.39 69.0244 1170.85 Q67.2189 1167.29 63.5847 1167.29 M63.5847 1163.58 Q69.3948 1163.58 72.4503 1168.19 Q75.529 1172.77 75.529 1181.52 Q75.529 1190.25 72.4503 1194.85 Q69.3948 1199.44 63.5847 1199.44 Q57.7745 1199.44 54.6958 1194.85 Q51.6403 1190.25 51.6403 1181.52 Q51.6403 1172.77 54.6958 1168.19 Q57.7745 1163.58 63.5847 1163.58 Z\" fill=\"#000000\" fill-rule=\"nonzero\" fill-opacity=\"1\" /><path clip-path=\"url(#clip820)\" d=\"M83.7466 1192.89 L88.6308 1192.89 L88.6308 1198.77 L83.7466 1198.77 L83.7466 1192.89 Z\" fill=\"#000000\" fill-rule=\"nonzero\" fill-opacity=\"1\" /><path clip-path=\"url(#clip820)\" d=\"M98.8622 1164.21 L117.219 1164.21 L117.219 1168.14 L103.145 1168.14 L103.145 1176.61 Q104.163 1176.27 105.182 1176.11 Q106.2 1175.92 107.219 1175.92 Q113.006 1175.92 116.385 1179.09 Q119.765 1182.26 119.765 1187.68 Q119.765 1193.26 116.293 1196.36 Q112.82 1199.44 106.501 1199.44 Q104.325 1199.44 102.057 1199.07 Q99.8113 1198.7 97.4039 1197.96 L97.4039 1193.26 Q99.4872 1194.39 101.709 1194.95 Q103.932 1195.5 106.408 1195.5 Q110.413 1195.5 112.751 1193.4 Q115.089 1191.29 115.089 1187.68 Q115.089 1184.07 112.751 1181.96 Q110.413 1179.86 106.408 1179.86 Q104.534 1179.86 102.659 1180.27 Q100.807 1180.69 98.8622 1181.57 L98.8622 1164.21 Z\" fill=\"#000000\" fill-rule=\"nonzero\" fill-opacity=\"1\" /><path clip-path=\"url(#clip820)\" d=\"M53.3995 880.321 L61.0384 880.321 L61.0384 853.956 L52.7282 855.623 L52.7282 851.363 L60.9921 849.697 L65.668 849.697 L65.668 880.321 L73.3068 880.321 L73.3068 884.257 L53.3995 884.257 L53.3995 880.321 Z\" fill=\"#000000\" fill-rule=\"nonzero\" fill-opacity=\"1\" /><path clip-path=\"url(#clip820)\" d=\"M82.7512 878.377 L87.6354 878.377 L87.6354 884.257 L82.7512 884.257 L82.7512 878.377 Z\" fill=\"#000000\" fill-rule=\"nonzero\" fill-opacity=\"1\" /><path clip-path=\"url(#clip820)\" d=\"M107.821 852.775 Q104.209 852.775 102.381 856.34 Q100.575 859.882 100.575 867.011 Q100.575 874.118 102.381 877.683 Q104.209 881.224 107.821 881.224 Q111.455 881.224 113.26 877.683 Q115.089 874.118 115.089 867.011 Q115.089 859.882 113.26 856.34 Q111.455 852.775 107.821 852.775 M107.821 849.072 Q113.631 849.072 116.686 853.678 Q119.765 858.261 119.765 867.011 Q119.765 875.738 116.686 880.345 Q113.631 884.928 107.821 884.928 Q102.01 884.928 98.9317 880.345 Q95.8761 875.738 95.8761 867.011 Q95.8761 858.261 98.9317 853.678 Q102.01 849.072 107.821 849.072 Z\" fill=\"#000000\" fill-rule=\"nonzero\" fill-opacity=\"1\" /><path clip-path=\"url(#clip820)\" d=\"M54.3949 565.811 L62.0337 565.811 L62.0337 539.446 L53.7236 541.112 L53.7236 536.853 L61.9874 535.186 L66.6633 535.186 L66.6633 565.811 L74.3022 565.811 L74.3022 569.746 L54.3949 569.746 L54.3949 565.811 Z\" fill=\"#000000\" fill-rule=\"nonzero\" fill-opacity=\"1\" /><path clip-path=\"url(#clip820)\" d=\"M83.7466 563.867 L88.6308 563.867 L88.6308 569.746 L83.7466 569.746 L83.7466 563.867 Z\" fill=\"#000000\" fill-rule=\"nonzero\" fill-opacity=\"1\" /><path clip-path=\"url(#clip820)\" d=\"M98.8622 535.186 L117.219 535.186 L117.219 539.121 L103.145 539.121 L103.145 547.594 Q104.163 547.246 105.182 547.084 Q106.2 546.899 107.219 546.899 Q113.006 546.899 116.385 550.07 Q119.765 553.242 119.765 558.658 Q119.765 564.237 116.293 567.339 Q112.82 570.418 106.501 570.418 Q104.325 570.418 102.057 570.047 Q99.8113 569.677 97.4039 568.936 L97.4039 564.237 Q99.4872 565.371 101.709 565.927 Q103.932 566.482 106.408 566.482 Q110.413 566.482 112.751 564.376 Q115.089 562.269 115.089 558.658 Q115.089 555.047 112.751 552.941 Q110.413 550.834 106.408 550.834 Q104.534 550.834 102.659 551.251 Q100.807 551.668 98.8622 552.547 L98.8622 535.186 Z\" fill=\"#000000\" fill-rule=\"nonzero\" fill-opacity=\"1\" /><path clip-path=\"url(#clip820)\" d=\"M56.6171 251.301 L72.9365 251.301 L72.9365 255.236 L50.9921 255.236 L50.9921 251.301 Q53.6541 248.546 58.2375 243.917 Q62.8439 239.264 64.0245 237.921 Q66.2698 235.398 67.1494 233.662 Q68.0522 231.903 68.0522 230.213 Q68.0522 227.458 66.1078 225.722 Q64.1865 223.986 61.0847 223.986 Q58.8856 223.986 56.4319 224.75 Q54.0014 225.514 51.2236 227.065 L51.2236 222.343 Q54.0477 221.208 56.5014 220.63 Q58.955 220.051 60.9921 220.051 Q66.3624 220.051 69.5568 222.736 Q72.7513 225.421 72.7513 229.912 Q72.7513 232.042 71.9411 233.963 Q71.1541 235.861 69.0476 238.454 Q68.4689 239.125 65.367 242.342 Q62.2652 245.537 56.6171 251.301 Z\" fill=\"#000000\" fill-rule=\"nonzero\" fill-opacity=\"1\" /><path clip-path=\"url(#clip820)\" d=\"M82.7512 249.356 L87.6354 249.356 L87.6354 255.236 L82.7512 255.236 L82.7512 249.356 Z\" fill=\"#000000\" fill-rule=\"nonzero\" fill-opacity=\"1\" /><path clip-path=\"url(#clip820)\" d=\"M107.821 223.755 Q104.209 223.755 102.381 227.319 Q100.575 230.861 100.575 237.991 Q100.575 245.097 102.381 248.662 Q104.209 252.204 107.821 252.204 Q111.455 252.204 113.26 248.662 Q115.089 245.097 115.089 237.991 Q115.089 230.861 113.26 227.319 Q111.455 223.755 107.821 223.755 M107.821 220.051 Q113.631 220.051 116.686 224.657 Q119.765 229.241 119.765 237.991 Q119.765 246.717 116.686 251.324 Q113.631 255.907 107.821 255.907 Q102.01 255.907 98.9317 251.324 Q95.8761 246.717 95.8761 237.991 Q95.8761 229.241 98.9317 224.657 Q102.01 220.051 107.821 220.051 Z\" fill=\"#000000\" fill-rule=\"nonzero\" fill-opacity=\"1\" /><polyline clip-path=\"url(#clip822)\" style=\"stroke:#008000; stroke-linecap:round; stroke-linejoin:round; stroke-width:4; stroke-opacity:1; fill:none\" points=\"223.293,87.9763 228.643,95.192 233.992,102.348 239.341,109.446 270.672,149.857 302.002,188.35 333.332,225.006 364.663,259.902 379.238,275.556 393.813,290.852 408.388,305.796 422.963,320.396 442.498,339.435 462.034,357.881 481.57,375.748 501.106,393.051 533.391,420.443 565.676,446.387 595.698,469.261 625.72,490.971 663.408,516.638 701.096,540.608 734.903,560.72 768.709,579.567 807.405,599.644 846.101,618.184 875.026,631.072 903.951,643.156 940.947,657.473 977.943,670.554 1011.71,681.446 1045.48,691.37 1083.91,701.522 1122.34,710.493 1152.8,716.79 1183.27,722.384 1221.11,728.38 1258.96,733.347 1287.95,736.473 1316.93,739.023 1357.8,741.664 1398.66,743.216 1429.2,743.682 1459.74,743.568 1494.47,742.747 1529.2,741.207 1563.59,738.988 1597.98,736.092 1635.82,732.142 1673.66,727.408 1702.56,723.275 1731.47,718.701 1767.94,712.313 1804.41,705.249 1838.14,698.126 1871.88,690.447 1906.67,681.956 1941.46,672.894 1976.72,663.137 2011.98,652.815 2048.81,641.444 2085.63,629.478 2114.63,619.64 2143.64,609.444 2209.7,584.915 2275.75,558.608 2283.17,555.548 2290.58,552.466 \"/>\n",
       "<polyline clip-path=\"url(#clip822)\" style=\"stroke:#ff0000; stroke-linecap:round; stroke-linejoin:round; stroke-width:4; stroke-opacity:1; fill:none\" points=\"223.293,245.239 228.643,252.476 233.992,259.667 239.341,266.815 270.672,307.808 302.002,347.389 333.332,385.658 364.663,422.711 393.813,456.179 422.963,488.757 462.034,531.165 501.106,572.308 565.676,638.048 625.72,697.357 701.096,770.539 768.709,836.208 846.101,912.986 903.951,972.467 940.947,1011.75 977.943,1052.12 1011.71,1089.92 1045.48,1128.59 1122.34,1218.81 1183.27,1289.9 1202.19,1311.21 1221.11,1331.86 1240.04,1351.63 1258.96,1370.29 1273.45,1383.67 1287.95,1396.11 1302.44,1407.5 1316.93,1417.68 1327.15,1424.06 1337.37,1429.72 1347.58,1434.61 1357.8,1438.68 1368.01,1441.87 1378.23,1444.14 1388.45,1445.44 1398.66,1445.72 1413.93,1444.14 1429.2,1440.06 1444.47,1433.38 1459.74,1423.99 1468.42,1417.43 1477.1,1409.97 1485.79,1401.62 1494.47,1392.37 1503.15,1382.24 1511.83,1371.23 1520.52,1359.36 1529.2,1346.65 1546.39,1319.1 1563.59,1288.6 1580.79,1255.47 1597.98,1220.07 1616.9,1179.01 1635.82,1136.35 1654.74,1092.74 1673.66,1048.85 1702.56,982.816 1731.47,919.955 1749.7,882.819 1767.94,848.128 1786.18,816.21 1804.41,787.312 1821.28,763.424 1838.14,742.345 1855.01,724.102 1871.88,708.678 1889.27,695.661 1906.67,685.48 1924.06,678.003 1941.46,673.078 1959.09,670.514 1976.72,670.209 1994.35,671.971 2011.98,675.608 2030.4,681.203 2048.81,688.434 2067.22,697.109 2085.63,707.049 2100.13,715.663 2114.63,724.889 2129.14,734.66 2143.64,744.917 2176.67,769.816 2209.7,796.451 2242.73,824.453 2275.75,853.578 2279.46,856.91 2283.17,860.253 2286.87,863.609 2290.58,866.977 \"/>\n",
       "<path clip-path=\"url(#clip820)\" d=\"M2007.39 250.738 L2279.52 250.738 L2279.52 95.2176 L2007.39 95.2176  Z\" fill=\"#ffffff\" fill-rule=\"evenodd\" fill-opacity=\"1\"/>\n",
       "<polyline clip-path=\"url(#clip820)\" style=\"stroke:#000000; stroke-linecap:round; stroke-linejoin:round; stroke-width:4; stroke-opacity:1; fill:none\" points=\"2007.39,250.738 2279.52,250.738 2279.52,95.2176 2007.39,95.2176 2007.39,250.738 \"/>\n",
       "<polyline clip-path=\"url(#clip820)\" style=\"stroke:#008000; stroke-linecap:round; stroke-linejoin:round; stroke-width:4; stroke-opacity:1; fill:none\" points=\"2031.8,147.058 2178.27,147.058 \"/>\n",
       "<path clip-path=\"url(#clip820)\" d=\"M2216.52 166.745 Q2214.72 171.375 2213.01 172.787 Q2211.29 174.199 2208.42 174.199 L2205.02 174.199 L2205.02 170.634 L2207.52 170.634 Q2209.28 170.634 2210.25 169.8 Q2211.22 168.967 2212.4 165.865 L2213.17 163.921 L2202.68 138.412 L2207.2 138.412 L2215.3 158.689 L2223.4 138.412 L2227.91 138.412 L2216.52 166.745 Z\" fill=\"#000000\" fill-rule=\"nonzero\" fill-opacity=\"1\" /><path clip-path=\"url(#clip820)\" d=\"M2235.2 160.402 L2242.84 160.402 L2242.84 134.037 L2234.53 135.703 L2234.53 131.444 L2242.8 129.778 L2247.47 129.778 L2247.47 160.402 L2255.11 160.402 L2255.11 164.338 L2235.2 164.338 L2235.2 160.402 Z\" fill=\"#000000\" fill-rule=\"nonzero\" fill-opacity=\"1\" /><polyline clip-path=\"url(#clip820)\" style=\"stroke:#ff0000; stroke-linecap:round; stroke-linejoin:round; stroke-width:4; stroke-opacity:1; fill:none\" points=\"2031.8,198.898 2178.27,198.898 \"/>\n",
       "<path clip-path=\"url(#clip820)\" d=\"M2216.52 218.585 Q2214.72 223.215 2213.01 224.627 Q2211.29 226.039 2208.42 226.039 L2205.02 226.039 L2205.02 222.474 L2207.52 222.474 Q2209.28 222.474 2210.25 221.64 Q2211.22 220.807 2212.4 217.705 L2213.17 215.761 L2202.68 190.252 L2207.2 190.252 L2215.3 210.529 L2223.4 190.252 L2227.91 190.252 L2216.52 218.585 Z\" fill=\"#000000\" fill-rule=\"nonzero\" fill-opacity=\"1\" /><path clip-path=\"url(#clip820)\" d=\"M2238.42 212.242 L2254.74 212.242 L2254.74 216.178 L2232.8 216.178 L2232.8 212.242 Q2235.46 209.488 2240.04 204.858 Q2244.65 200.205 2245.83 198.863 Q2248.07 196.34 2248.95 194.604 Q2249.86 192.844 2249.86 191.155 Q2249.86 188.4 2247.91 186.664 Q2245.99 184.928 2242.89 184.928 Q2240.69 184.928 2238.24 185.692 Q2235.81 186.455 2233.03 188.006 L2233.03 183.284 Q2235.85 182.15 2238.31 181.571 Q2240.76 180.993 2242.8 180.993 Q2248.17 180.993 2251.36 183.678 Q2254.56 186.363 2254.56 190.854 Q2254.56 192.983 2253.75 194.905 Q2252.96 196.803 2250.85 199.395 Q2250.27 200.067 2247.17 203.284 Q2244.07 206.479 2238.42 212.242 Z\" fill=\"#000000\" fill-rule=\"nonzero\" fill-opacity=\"1\" /></svg>\n"
      ]
     },
     "metadata": {},
     "output_type": "display_data"
    }
   ],
   "source": [
    "plot(exp(pi => best_regulated),color=\"green\",0,1)\n",
    "plot!(exp(pi => c),color=\"red\", 0, 1)"
   ]
  },
  {
   "cell_type": "code",
   "execution_count": 9,
   "metadata": {},
   "outputs": [
    {
     "data": {
      "text/latex": [
       "$0.0668206691481378$"
      ],
      "text/plain": [
       "0.0668206691481378"
      ]
     },
     "metadata": {},
     "output_type": "display_data"
    }
   ],
   "source": [
    "#from the plot we can see that the maximum difference is around 0.57\n",
    "\n",
    "exp(pi => c(beta => 0.57), beta => 0.57)/exp(pi => best_regulated(beta => 0.57), beta => 0.57)\n"
   ]
  },
  {
   "cell_type": "markdown",
   "metadata": {},
   "source": [
    "### Q2"
   ]
  },
  {
   "cell_type": "code",
   "execution_count": 10,
   "metadata": {},
   "outputs": [
    {
     "name": "stderr",
     "output_type": "stream",
     "text": [
      "\u001b[32m\u001b[1m    Updating\u001b[22m\u001b[39m registry at `~/.julia/registries/General.toml`\n",
      "\u001b[32m\u001b[1m   Resolving\u001b[22m\u001b[39m package versions...\n",
      "\u001b[32m\u001b[1m    Updating\u001b[22m\u001b[39m `~/.julia/environments/v1.10/Project.toml`\n",
      "  \u001b[90m[10745b16] \u001b[39m\u001b[92m+ Statistics v1.10.0\u001b[39m\n",
      "\u001b[32m\u001b[1m  No Changes\u001b[22m\u001b[39m to `~/.julia/environments/v1.10/Manifest.toml`\n"
     ]
    },
    {
     "ename": "ArgumentError",
     "evalue": "ArgumentError: Package DataFrames not found in current path.\n- Run `import Pkg; Pkg.add(\"DataFrames\")` to install the DataFrames package.",
     "output_type": "error",
     "traceback": [
      "ArgumentError: Package DataFrames not found in current path.\n",
      "- Run `import Pkg; Pkg.add(\"DataFrames\")` to install the DataFrames package.\n",
      "\n",
      "Stacktrace:\n",
      "  [1] macro expansion\n",
      "    @ ./loading.jl:1835 [inlined]\n",
      "  [2] macro expansion\n",
      "    @ ./lock.jl:267 [inlined]\n",
      "  [3] __require(into::Module, mod::Symbol)\n",
      "    @ Base ./loading.jl:1816\n",
      "  [4] #invoke_in_world#3\n",
      "    @ ./essentials.jl:926 [inlined]\n",
      "  [5] invoke_in_world\n",
      "    @ ./essentials.jl:923 [inlined]\n",
      "  [6] require(into::Module, mod::Symbol)\n",
      "    @ Base ./loading.jl:1809\n",
      "  [7] eval\n",
      "    @ ./boot.jl:385 [inlined]\n",
      "  [8] include_string(mapexpr::typeof(REPL.softscope), mod::Module, code::String, filename::String)\n",
      "    @ Base ./loading.jl:2139\n",
      "  [9] #invokelatest#2\n",
      "    @ ./essentials.jl:892 [inlined]\n",
      " [10] invokelatest\n",
      "    @ ./essentials.jl:889 [inlined]\n",
      " [11] (::VSCodeServer.var\"#217#218\"{VSCodeServer.NotebookRunCellArguments, String})()\n",
      "    @ VSCodeServer ~/.vscode/extensions/julialang.language-julia-1.127.2/scripts/packages/VSCodeServer/src/serve_notebook.jl:24\n",
      " [12] withpath(f::VSCodeServer.var\"#217#218\"{VSCodeServer.NotebookRunCellArguments, String}, path::String)\n",
      "    @ VSCodeServer ~/.vscode/extensions/julialang.language-julia-1.127.2/scripts/packages/VSCodeServer/src/repl.jl:276\n",
      " [13] notebook_runcell_request(conn::VSCodeServer.JSONRPC.JSONRPCEndpoint{Base.PipeEndpoint, Base.PipeEndpoint}, params::VSCodeServer.NotebookRunCellArguments)\n",
      "    @ VSCodeServer ~/.vscode/extensions/julialang.language-julia-1.127.2/scripts/packages/VSCodeServer/src/serve_notebook.jl:13\n",
      " [14] dispatch_msg(x::VSCodeServer.JSONRPC.JSONRPCEndpoint{Base.PipeEndpoint, Base.PipeEndpoint}, dispatcher::VSCodeServer.JSONRPC.MsgDispatcher, msg::Dict{String, Any})\n",
      "    @ VSCodeServer.JSONRPC ~/.vscode/extensions/julialang.language-julia-1.127.2/scripts/packages/JSONRPC/src/typed.jl:67\n",
      " [15] serve_notebook(pipename::String, debugger_pipename::String, outputchannel_logger::Base.CoreLogging.SimpleLogger; error_handler::var\"#5#10\"{String})\n",
      "    @ VSCodeServer ~/.vscode/extensions/julialang.language-julia-1.127.2/scripts/packages/VSCodeServer/src/serve_notebook.jl:147\n",
      " [16] top-level scope\n",
      "    @ ~/.vscode/extensions/julialang.language-julia-1.127.2/scripts/notebook/notebook.jl:35"
     ]
    }
   ],
   "source": [
    "using Pkg\n",
    "Pkg.add(\"Chain\")\n",
    "Pkg.add(\"DataFrames\")\n",
    "Pkg.add(\"CSV\")\n",
    "Pkg.add(\"Statistics\")\n",
    "using DataFrames, CSV, Statistics, Chain\n",
    "using Distributions,Optim, Plots\n",
    "dataset = CSV.read(\"datamerged2.csv\", DataFrame);"
   ]
  },
  {
   "cell_type": "code",
   "execution_count": null,
   "metadata": {},
   "outputs": [
    {
     "name": "stderr",
     "output_type": "stream",
     "text": [
      "\u001b[32m\u001b[1m    Updating\u001b[22m\u001b[39m registry at `~/.julia/registries/General.toml`\n",
      "\u001b[32m\u001b[1m   Installed\u001b[22m\u001b[39m ConcurrentUtilities ─────── v2.5.0\n",
      "\u001b[32m\u001b[1m   Installed\u001b[22m\u001b[39m GR_jll ──────────────────── v0.73.13+0\n",
      "\u001b[32m\u001b[1m   Installed\u001b[22m\u001b[39m RecursiveArrayTools ─────── v2.38.10\n",
      "\u001b[32m\u001b[1m   Installed\u001b[22m\u001b[39m StaticArrays ────────────── v1.9.12\n",
      "\u001b[32m\u001b[1m   Installed\u001b[22m\u001b[39m Quadrature ──────────────── v2.1.0\n",
      "\u001b[32m\u001b[1m   Installed\u001b[22m\u001b[39m GPUArrays ───────────────── v9.1.0\n",
      "\u001b[32m\u001b[1m   Installed\u001b[22m\u001b[39m ColorSchemes ────────────── v3.29.0\n",
      "\u001b[32m\u001b[1m   Installed\u001b[22m\u001b[39m Pango_jll ───────────────── v1.56.1+0\n",
      "\u001b[32m\u001b[1m   Installed\u001b[22m\u001b[39m IrrationalConstants ─────── v0.2.4\n",
      "\u001b[32m\u001b[1m   Installed\u001b[22m\u001b[39m ADTypes ─────────────────── v0.2.7\n",
      "\u001b[32m\u001b[1m   Installed\u001b[22m\u001b[39m FiniteDiff ──────────────── v2.27.0\n",
      "\u001b[32m\u001b[1m   Installed\u001b[22m\u001b[39m SciMLBase ───────────────── v1.98.1\n",
      "\u001b[32m\u001b[1m   Installed\u001b[22m\u001b[39m GR ──────────────────────── v0.73.13\n",
      "\u001b[32m\u001b[1m   Installed\u001b[22m\u001b[39m LLVM ────────────────────── v6.6.3\n",
      "\u001b[32m\u001b[1m   Installed\u001b[22m\u001b[39m CodecZlib ───────────────── v0.7.8\n",
      "\u001b[32m\u001b[1m   Installed\u001b[22m\u001b[39m Zstd_jll ────────────────── v1.5.7+1\n",
      "\u001b[32m\u001b[1m   Installed\u001b[22m\u001b[39m Bzip2_jll ───────────────── v1.0.9+0\n",
      "\u001b[32m\u001b[1m   Installed\u001b[22m\u001b[39m XZ_jll ──────────────────── v5.6.4+1\n",
      "\u001b[32m\u001b[1m   Installed\u001b[22m\u001b[39m libpng_jll ──────────────── v1.6.46+0\n",
      "\u001b[32m\u001b[1m   Installed\u001b[22m\u001b[39m NaNMath ─────────────────── v1.1.2\n",
      "\u001b[32m\u001b[1m   Installed\u001b[22m\u001b[39m oneTBB_jll ──────────────── v2022.0.0+0\n",
      "\u001b[32m\u001b[1m   Installed\u001b[22m\u001b[39m Expat_jll ───────────────── v2.6.5+0\n",
      "\u001b[32m\u001b[1m   Installed\u001b[22m\u001b[39m SymPy ───────────────────── v2.3.3\n",
      "\u001b[32m\u001b[1m   Installed\u001b[22m\u001b[39m LLVMExtra_jll ───────────── v0.0.29+0\n",
      "\u001b[32m\u001b[1m   Installed\u001b[22m\u001b[39m XML2_jll ────────────────── v2.13.6+1\n",
      "\u001b[32m\u001b[1m   Installed\u001b[22m\u001b[39m OrderedCollections ──────── v1.8.0\n",
      "\u001b[32m\u001b[1m   Installed\u001b[22m\u001b[39m GPUArraysCore ───────────── v0.1.5\n",
      "\u001b[32m\u001b[1m   Installed\u001b[22m\u001b[39m ArrayInterface ──────────── v7.7.1\n",
      "\u001b[32m\u001b[1m   Installed\u001b[22m\u001b[39m Adapt ───────────────────── v3.7.2\n",
      "\u001b[32m\u001b[1m   Installed\u001b[22m\u001b[39m Latexify ────────────────── v0.16.6\n",
      "\u001b[32m\u001b[1m   Installed\u001b[22m\u001b[39m OpenSSL_jll ─────────────── v3.0.16+0\n",
      "\u001b[32m\u001b[1m   Installed\u001b[22m\u001b[39m DecFP ───────────────────── v1.4.1\n",
      "\u001b[32m\u001b[1m   Installed\u001b[22m\u001b[39m TermInterface ───────────── v2.0.0\n",
      "\u001b[32m\u001b[1m   Installed\u001b[22m\u001b[39m StructArrays ────────────── v0.6.18\n",
      "\u001b[32m\u001b[1m   Installed\u001b[22m\u001b[39m SymPyCore ───────────────── v0.2.11\n",
      "\u001b[32m\u001b[1m   Installed\u001b[22m\u001b[39m SymbolicIndexingInterface ─ v0.2.2\n",
      "\u001b[32m\u001b[1m   Installed\u001b[22m\u001b[39m QuadGK ──────────────────── v2.11.2\n",
      "\u001b[32m\u001b[1m    Updating\u001b[22m\u001b[39m `~/.julia/environments/v1.10/Project.toml`\n",
      "  \u001b[90m[67601950] \u001b[39m\u001b[93m↑ Quadrature v2.0.0 ⇒ v2.1.0\u001b[39m\n",
      "  \u001b[90m[24249f21] \u001b[39m\u001b[93m↑ SymPy v2.2.1 ⇒ v2.3.3\u001b[39m\n",
      "\u001b[32m\u001b[1m    Updating\u001b[22m\u001b[39m `~/.julia/environments/v1.10/Manifest.toml`\n",
      "\u001b[33m⌅\u001b[39m \u001b[90m[47edcb42] \u001b[39m\u001b[95m↓ ADTypes v1.12.1 ⇒ v0.2.7\u001b[39m\n",
      "\u001b[33m⌅\u001b[39m \u001b[90m[79e6a3ab] \u001b[39m\u001b[95m↓ Adapt v4.1.1 ⇒ v3.7.2\u001b[39m\n",
      "\u001b[32m⌃\u001b[39m \u001b[90m[4fba245c] \u001b[39m\u001b[95m↓ ArrayInterface v7.18.0 ⇒ v7.7.1\u001b[39m\n",
      "  \u001b[90m[a9b6321e] \u001b[39m\u001b[91m- Atomix v1.1.0\u001b[39m\n",
      "  \u001b[90m[62783981] \u001b[39m\u001b[91m- BitTwiddlingConvenienceFunctions v0.1.6\u001b[39m\n",
      "  \u001b[90m[2a0fbf3d] \u001b[39m\u001b[91m- CPUSummary v0.2.6\u001b[39m\n",
      "  \u001b[90m[fb6a15b2] \u001b[39m\u001b[91m- CloseOpenIntervals v0.1.13\u001b[39m\n",
      "  \u001b[90m[944b1d66] \u001b[39m\u001b[93m↑ CodecZlib v0.7.6 ⇒ v0.7.8\u001b[39m\n",
      "  \u001b[90m[35d6a980] \u001b[39m\u001b[93m↑ ColorSchemes v3.27.1 ⇒ v3.29.0\u001b[39m\n",
      "  \u001b[90m[f70d9fcc] \u001b[39m\u001b[91m- CommonWorldInvalidations v1.0.0\u001b[39m\n",
      "  \u001b[90m[2569d6c7] \u001b[39m\u001b[91m- ConcreteStructs v0.2.3\u001b[39m\n",
      "  \u001b[90m[f0e56b4a] \u001b[39m\u001b[93m↑ ConcurrentUtilities v2.4.3 ⇒ v2.5.0\u001b[39m\n",
      "  \u001b[90m[adafc99b] \u001b[39m\u001b[91m- CpuId v0.3.1\u001b[39m\n",
      "  \u001b[90m[55939f99] \u001b[39m\u001b[93m↑ DecFP v1.3.2 ⇒ v1.4.1\u001b[39m\n",
      "  \u001b[90m[2b5f629d] \u001b[39m\u001b[91m- DiffEqBase v6.161.0\u001b[39m\n",
      "  \u001b[90m[f151be2c] \u001b[39m\u001b[91m- EnzymeCore v0.8.8\u001b[39m\n",
      "  \u001b[90m[6b7a57c9] \u001b[39m\u001b[91m- Expronicon v0.8.5\u001b[39m\n",
      "  \u001b[90m[7034ab61] \u001b[39m\u001b[91m- FastBroadcast v0.3.5\u001b[39m\n",
      "  \u001b[90m[9aa1b823] \u001b[39m\u001b[91m- FastClosures v0.3.2\u001b[39m\n",
      "  \u001b[90m[a4df4552] \u001b[39m\u001b[91m- FastPower v1.1.1\u001b[39m\n",
      "  \u001b[90m[6a86dc24] \u001b[39m\u001b[93m↑ FiniteDiff v2.26.2 ⇒ v2.27.0\u001b[39m\n",
      "\u001b[32m⌃\u001b[39m \u001b[90m[0c68f7d7] \u001b[39m\u001b[95m↓ GPUArrays v11.2.1 ⇒ v9.1.0\u001b[39m\n",
      "\u001b[33m⌅\u001b[39m \u001b[90m[46192b85] \u001b[39m\u001b[95m↓ GPUArraysCore v0.2.0 ⇒ v0.1.5\u001b[39m\n",
      "  \u001b[90m[28b8d3ca] \u001b[39m\u001b[93m↑ GR v0.73.10 ⇒ v0.73.13\u001b[39m\n",
      "  \u001b[90m[076d061b] \u001b[39m\u001b[91m- HashArrayMappedTries v0.2.0\u001b[39m\n",
      "  \u001b[90m[615f187c] \u001b[39m\u001b[91m- IfElse v0.1.1\u001b[39m\n",
      "  \u001b[90m[92d709cd] \u001b[39m\u001b[93m↑ IrrationalConstants v0.2.2 ⇒ v0.2.4\u001b[39m\n",
      "  \u001b[90m[63c18a36] \u001b[39m\u001b[91m- KernelAbstractions v0.9.33\u001b[39m\n",
      "\u001b[33m⌅\u001b[39m \u001b[90m[929cbde3] \u001b[39m\u001b[95m↓ LLVM v9.2.0 ⇒ v6.6.3\u001b[39m\n",
      "  \u001b[90m[23fbe1c1] \u001b[39m\u001b[93m↑ Latexify v0.16.5 ⇒ v0.16.6\u001b[39m\n",
      "  \u001b[90m[10f19ff3] \u001b[39m\u001b[91m- LayoutPointers v0.1.17\u001b[39m\n",
      "  \u001b[90m[d8e11817] \u001b[39m\u001b[91m- MLStyle v0.4.17\u001b[39m\n",
      "  \u001b[90m[d125e4d3] \u001b[39m\u001b[91m- ManualMemory v0.1.8\u001b[39m\n",
      "  \u001b[90m[46d2c3a1] \u001b[39m\u001b[91m- MuladdMacro v0.2.4\u001b[39m\n",
      "  \u001b[90m[77ba4419] \u001b[39m\u001b[93m↑ NaNMath v1.0.3 ⇒ v1.1.2\u001b[39m\n",
      "  \u001b[90m[bac558e1] \u001b[39m\u001b[93m↑ OrderedCollections v1.7.0 ⇒ v1.8.0\u001b[39m\n",
      "  \u001b[90m[f517fe37] \u001b[39m\u001b[91m- Polyester v0.7.16\u001b[39m\n",
      "  \u001b[90m[1d0040c9] \u001b[39m\u001b[91m- PolyesterWeave v0.2.2\u001b[39m\n",
      "  \u001b[90m[d236fae5] \u001b[39m\u001b[91m- PreallocationTools v0.4.24\u001b[39m\n",
      "  \u001b[90m[1fd47b50] \u001b[39m\u001b[93m↑ QuadGK v2.11.1 ⇒ v2.11.2\u001b[39m\n",
      "  \u001b[90m[67601950] \u001b[39m\u001b[93m↑ Quadrature v2.0.0 ⇒ v2.1.0\u001b[39m\n",
      "\u001b[33m⌅\u001b[39m \u001b[90m[731186ca] \u001b[39m\u001b[95m↓ RecursiveArrayTools v3.27.3 ⇒ v2.38.10\u001b[39m\n",
      "  \u001b[90m[94e857df] \u001b[39m\u001b[91m- SIMDTypes v0.1.0\u001b[39m\n",
      "\u001b[33m⌅\u001b[39m \u001b[90m[0bca4576] \u001b[39m\u001b[95m↓ SciMLBase v2.72.1 ⇒ v1.98.1\u001b[39m\n",
      "  \u001b[90m[53ae85a6] \u001b[39m\u001b[91m- SciMLStructures v1.6.1\u001b[39m\n",
      "  \u001b[90m[7e506255] \u001b[39m\u001b[91m- ScopedValues v1.3.0\u001b[39m\n",
      "  \u001b[90m[aedffcd0] \u001b[39m\u001b[91m- Static v1.1.1\u001b[39m\n",
      "  \u001b[90m[0d7ed370] \u001b[39m\u001b[91m- StaticArrayInterface v1.8.0\u001b[39m\n",
      "  \u001b[90m[90137ffa] \u001b[39m\u001b[93m↑ StaticArrays v1.9.10 ⇒ v1.9.12\u001b[39m\n",
      "  \u001b[90m[7792a7ef] \u001b[39m\u001b[91m- StrideArraysCore v0.5.7\u001b[39m\n",
      "\u001b[32m⌃\u001b[39m \u001b[90m[09ab397b] \u001b[39m\u001b[95m↓ StructArrays v0.7.0 ⇒ v0.6.18\u001b[39m\n",
      "  \u001b[90m[24249f21] \u001b[39m\u001b[93m↑ SymPy v2.2.1 ⇒ v2.3.3\u001b[39m\n",
      "  \u001b[90m[458b697b] \u001b[39m\u001b[93m↑ SymPyCore v0.2.8 ⇒ v0.2.11\u001b[39m\n",
      "\u001b[33m⌅\u001b[39m \u001b[90m[2efcf032] \u001b[39m\u001b[95m↓ SymbolicIndexingInterface v0.3.37 ⇒ v0.2.2\u001b[39m\n",
      "  \u001b[90m[8ea1fca8] \u001b[39m\u001b[92m+ TermInterface v2.0.0\u001b[39m\n",
      "  \u001b[90m[8290d209] \u001b[39m\u001b[91m- ThreadingUtilities v0.5.2\u001b[39m\n",
      "  \u001b[90m[013be700] \u001b[39m\u001b[91m- UnsafeAtomics v0.3.0\u001b[39m\n",
      "  \u001b[90m[6e34b625] \u001b[39m\u001b[93m↑ Bzip2_jll v1.0.8+4 ⇒ v1.0.9+0\u001b[39m\n",
      "  \u001b[90m[2e619515] \u001b[39m\u001b[93m↑ Expat_jll v2.6.4+3 ⇒ v2.6.5+0\u001b[39m\n",
      "  \u001b[90m[d2c73de3] \u001b[39m\u001b[93m↑ GR_jll v0.73.10+0 ⇒ v0.73.13+0\u001b[39m\n",
      "\u001b[33m⌅\u001b[39m \u001b[90m[dad2f222] \u001b[39m\u001b[95m↓ LLVMExtra_jll v0.0.35+0 ⇒ v0.0.29+0\u001b[39m\n",
      "  \u001b[90m[458c3c95] \u001b[39m\u001b[93m↑ OpenSSL_jll v3.0.15+3 ⇒ v3.0.16+0\u001b[39m\n",
      "  \u001b[90m[36c8627f] \u001b[39m\u001b[93m↑ Pango_jll v1.55.5+0 ⇒ v1.56.1+0\u001b[39m\n",
      "  \u001b[90m[02c8fc9c] \u001b[39m\u001b[93m↑ XML2_jll v2.13.5+0 ⇒ v2.13.6+1\u001b[39m\n",
      "  \u001b[90m[ffd25f8a] \u001b[39m\u001b[93m↑ XZ_jll v5.6.4+0 ⇒ v5.6.4+1\u001b[39m\n",
      "  \u001b[90m[3161d3a3] \u001b[39m\u001b[93m↑ Zstd_jll v1.5.7+0 ⇒ v1.5.7+1\u001b[39m\n",
      "  \u001b[90m[b53b4c65] \u001b[39m\u001b[93m↑ libpng_jll v1.6.45+1 ⇒ v1.6.46+0\u001b[39m\n",
      "  \u001b[90m[1317d2d5] \u001b[39m\u001b[93m↑ oneTBB_jll v2021.12.0+0 ⇒ v2022.0.0+0\u001b[39m\n",
      "\u001b[36m\u001b[1m        Info\u001b[22m\u001b[39m Packages marked with \u001b[32m⌃\u001b[39m and \u001b[33m⌅\u001b[39m have new versions available. Those with \u001b[32m⌃\u001b[39m may be upgradable, but those with \u001b[33m⌅\u001b[39m are restricted by compatibility constraints from upgrading. To see why use `status --outdated -m`\n",
      "\u001b[32m\u001b[1mPrecompiling\u001b[22m\u001b[39m project...\n",
      "\u001b[32m  ✓ \u001b[39m\u001b[90mADTypes\u001b[39m\n",
      "\u001b[32m  ✓ \u001b[39m\u001b[90mConcurrentUtilities\u001b[39m\n",
      "\u001b[33m  ✓ \u001b[39m\u001b[90mOrderedCollections\u001b[39m\n",
      "\u001b[33m  ✓ \u001b[39m\u001b[90mNaNMath\u001b[39m\n",
      "\u001b[33m  ✓ \u001b[39m\u001b[90mIrrationalConstants\u001b[39m\n",
      "\u001b[32m  ✓ \u001b[39m\u001b[90mCodecZlib\u001b[39m\n",
      "\u001b[32m  ✓ \u001b[39m\u001b[90mAdapt\u001b[39m\n",
      "\u001b[32m  ✓ \u001b[39m\u001b[90mSymbolicIndexingInterface\u001b[39m\n",
      "\u001b[32m  ✓ \u001b[39m\u001b[90mTermInterface\u001b[39m\n",
      "\u001b[33m  ✓ \u001b[39m\u001b[90mOpenSSL_jll\u001b[39m\n",
      "\u001b[33m  ✓ \u001b[39m\u001b[90mBzip2_jll\u001b[39m\n",
      "\u001b[33m  ✓ \u001b[39m\u001b[90mlibpng_jll\u001b[39m\n",
      "\u001b[33m  ✓ \u001b[39m\u001b[90mXZ_jll\u001b[39m\n",
      "\u001b[32m  ✓ \u001b[39m\u001b[90moneTBB_jll\u001b[39m\n",
      "\u001b[32m  ✓ \u001b[39m\u001b[90mLLVMExtra_jll\u001b[39m\n",
      "\u001b[33m  ✓ \u001b[39m\u001b[90mZstd_jll\u001b[39m\n",
      "\u001b[33m  ✓ \u001b[39m\u001b[90mExpat_jll\u001b[39m\n",
      "\u001b[33m  ✓ \u001b[39m\u001b[90mXML2_jll\u001b[39m\n",
      "\u001b[32m  ✓ \u001b[39m\u001b[90mOffsetArrays → OffsetArraysAdaptExt\u001b[39m\n",
      "\u001b[33m  ✓ \u001b[39m\u001b[90mLatexify\u001b[39m\n",
      "\u001b[32m  ✓ \u001b[39m\u001b[90mStaticArrays\u001b[39m\n",
      "\u001b[33m  ✓ \u001b[39m\u001b[90mColorSchemes\u001b[39m\n",
      "\u001b[32m  ✓ \u001b[39m\u001b[90mQuadGK\u001b[39m\n",
      "\u001b[33m  ✓ \u001b[39m\u001b[90mLatexify → SparseArraysExt\u001b[39m\n",
      "\u001b[32m  ✓ \u001b[39m\u001b[90mConstructionBase → ConstructionBaseStaticArraysExt\u001b[39m\n",
      "\u001b[32m  ✓ \u001b[39m\u001b[90mStaticArrays → StaticArraysStatisticsExt\u001b[39m\n",
      "\u001b[32m  ✓ \u001b[39m\u001b[90mStaticArrays → StaticArraysChainRulesCoreExt\u001b[39m\n",
      "\u001b[32m  ✓ \u001b[39m\u001b[90mLLVM\u001b[39m\n",
      "\u001b[32m  ✓ \u001b[39m\u001b[90mAdapt → AdaptStaticArraysExt\u001b[39m\n",
      "\u001b[32m  ✓ \u001b[39m\u001b[90mAccessors → StaticArraysExt\u001b[39m\n",
      "\u001b[32m  ✓ \u001b[39m\u001b[90mDecFP\u001b[39m\n",
      "\u001b[32m  ✓ \u001b[39m\u001b[90mStructArrays\u001b[39m\n",
      "\u001b[32m  ✓ \u001b[39m\u001b[90mNearestNeighbors\u001b[39m\n",
      "\u001b[32m  ✓ \u001b[39m\u001b[90mGPUArraysCore\u001b[39m\n",
      "\u001b[33m  ✓ \u001b[39m\u001b[90mSymPyCore\u001b[39m\n",
      "\u001b[32m  ✓ \u001b[39m\u001b[90mArrayInterface\u001b[39m\n",
      "\u001b[32m  ✓ \u001b[39m\u001b[90mHCubature\u001b[39m\n"
     ]
    }
   ],
   "source": [
    "Pkg.update()"
   ]
  },
  {
   "cell_type": "code",
   "execution_count": null,
   "metadata": {},
   "outputs": [],
   "source": [
    "r0 = filter( row -> row.round == 2 && row.treatment ==1, dataset);\n",
    "subset = groupby(r0, :id);\n",
    "offs = combine(subset, :value => mean);\n",
    "offers = @chain offs begin\n",
    "    _.value_mean\n",
    "end;\n",
    "r1 = filter( row -> row.resp == 1, r0);\n",
    "r = groupby(r1, :tofrom);\n",
    "resp = combine(r, :value => minimum);\n",
    "responses = @chain resp begin\n",
    "   _.value_minimum\n",
    "end;"
   ]
  },
  {
   "cell_type": "code",
   "execution_count": null,
   "metadata": {},
   "outputs": [],
   "source": [
    "#T = Normal(2,3)\n",
    "G = truncated(Normal(20,10),1,Inf)\n",
    "#initialize\n",
    "mu = 20 # mean for the distribution\n",
    "sigma = 10 #variance\n",
    "r = 2\n",
    "K = 55\n",
    "R = .5*K\n",
    "alpha = 1/10"
   ]
  },
  {
   "cell_type": "code",
   "execution_count": null,
   "metadata": {},
   "outputs": [],
   "source": [
    "p = [mu, sigma, r, alpha]\n",
    "p[4]\n"
   ]
  },
  {
   "cell_type": "code",
   "execution_count": null,
   "metadata": {},
   "outputs": [],
   "source": [
    "function Q(s, r, G,K)\n",
    "    if s >= K/2\n",
    "        return 1\n",
    "    elseif s <= 0\n",
    "        return 0\n",
    "    elseif r <= 0\n",
    "        return 0\n",
    "    elseif s >= r\n",
    "        return 1 - cdf(G, (r-s+K/2)/r)\n",
    "    else\n",
    "        return 1- cdf(G, K/(2*s))\n",
    "    end\n",
    "end\n"
   ]
  },
  {
   "cell_type": "code",
   "execution_count": null,
   "metadata": {},
   "outputs": [],
   "source": [
    "function dQ(s, r, G, K)\n",
    "    if s >= K/2\n",
    "      return 0\n",
    "  elseif s <= 0\n",
    "      return 0\n",
    "  elseif r <= 0\n",
    "      return 0\n",
    "  elseif s >= r\n",
    "      return  pdf(G, (r-s+K/2)/r)*1/r\n",
    "  else\n",
    "      return pdf(G, K/(2*s))*K/(2*s^2)\n",
    "  end\n",
    "end\n"
   ]
  },
  {
   "cell_type": "code",
   "execution_count": null,
   "metadata": {},
   "outputs": [],
   "source": [
    "function type(s, r, G, alpha, K,R)\n",
    "    return max(1,Q(s,r,G,K)*(1+2*alpha)/(R*dQ(s,r,G,K)) -(K/R)*(1+alpha)+ 1 + s*(1+2*alpha)/R)\n",
    "end\n"
   ]
  },
  {
   "cell_type": "code",
   "execution_count": null,
   "metadata": {},
   "outputs": [],
   "source": [
    "function likelihood(p, offers, responses,K,R)\n",
    "    G = truncated(Normal(p[1],p[2]),1, Inf)\n",
    "    l = 0\n",
    "    for o in offers\n",
    "        if o <= p[3]\n",
    "            v = at_r(p[3],G,p[4],K,R)\n",
    "            if v > 0\n",
    "                l += log(v)\n",
    "            else \n",
    "                l += log(.01)\n",
    "            end\n",
    "        else\n",
    "            v = pdf(G,type(o,p[3],G,p[4],K,R))\n",
    "            if v > 0\n",
    "                l += log(v)\n",
    "            else\n",
    "                l += log(.01)\n",
    "            end\n",
    "        end\n",
    "    end\n",
    "    for k in responses\n",
    "        l += log(1 - cdf(G, (p[3]-k+K/2)/p[3])+.01)\n",
    "    end\n",
    "    return -l\n",
    "end\n",
    "            "
   ]
  },
  {
   "cell_type": "code",
   "execution_count": null,
   "metadata": {},
   "outputs": [],
   "source": [
    "likelihood(p, offers,responses,K,R)"
   ]
  },
  {
   "cell_type": "code",
   "execution_count": null,
   "metadata": {},
   "outputs": [],
   "source": [
    "lower = [0,0,1.5,0]\n",
    "upper = [Inf, Inf,20,1]\n",
    "initial = [mu,sigma,2,.1]"
   ]
  },
  {
   "cell_type": "code",
   "execution_count": null,
   "metadata": {},
   "outputs": [],
   "source": [
    "res = optimize(params -> likelihood(params, offers, responses,K,R), lower, upper, initial, Fminbox())"
   ]
  },
  {
   "cell_type": "code",
   "execution_count": null,
   "metadata": {},
   "outputs": [],
   "source": [
    "result = Optim.minimizer(res)"
   ]
  },
  {
   "cell_type": "code",
   "execution_count": null,
   "metadata": {},
   "outputs": [],
   "source": [
    "likelihood(result, offers,responses,K,R)"
   ]
  },
  {
   "cell_type": "code",
   "execution_count": null,
   "metadata": {},
   "outputs": [],
   "source": [
    "mean(truncated(Normal(result[1],result[2]),1,Inf))"
   ]
  },
  {
   "cell_type": "code",
   "execution_count": null,
   "metadata": {},
   "outputs": [],
   "source": [
    "F = truncated(Normal(result[1],result[2]),1,Inf)\n",
    "plot(x -> pdf(F,x), 1, 10)"
   ]
  },
  {
   "cell_type": "markdown",
   "metadata": {},
   "source": [
    "#### "
   ]
  }
 ],
 "metadata": {
  "kernelspec": {
   "display_name": "Julia 1.10.7",
   "language": "julia",
   "name": "julia-1.10"
  },
  "language_info": {
   "file_extension": ".jl",
   "mimetype": "application/julia",
   "name": "julia",
   "version": "1.10.7"
  }
 },
 "nbformat": 4,
 "nbformat_minor": 2
}
