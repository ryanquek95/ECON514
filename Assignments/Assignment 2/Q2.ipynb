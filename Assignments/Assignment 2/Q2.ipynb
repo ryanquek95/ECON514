{
 "cells": [
  {
   "cell_type": "code",
   "execution_count": 7,
   "metadata": {},
   "outputs": [
    {
     "ename": "UndefVarError",
     "evalue": "UndefVarError: `Piecewise` not defined in `Main`\nSuggestion: check for spelling errors or missing imports.",
     "output_type": "error",
     "traceback": [
      "UndefVarError: `Piecewise` not defined in `Main`\n",
      "Suggestion: check for spelling errors or missing imports.\n",
      "\n",
      "Stacktrace:\n",
      " [1] top-level scope\n",
      "   @ c:\\Users\\Ryan Quek\\Documents\\UBC Documents\\Semester 2 (Spring)\\ECON514 - Computational Microeconomics\\ECON514 Cloned\\ECON514\\Assignments\\Assignment 2\\jl_notebook_cell_df34fa98e69747e1a8f8a730347b8e2f_W0sZmlsZQ==.jl:15"
     ]
    }
   ],
   "source": [
    "using SymPy, CSV, DataFrames\n",
    "\n",
    "# Load the dataset\n",
    "dataset = CSV.read(\"datamerged2.csv\", DataFrame)\n",
    "\n",
    "describe(dataset)  # Summarize the dataset\n",
    "\n",
    "# Define symbolic variables for estimation\n",
    "s, r, beta, K, R, alpha = symbols(\"s r beta K R alpha\")\n",
    "\n",
    "# Truncated Normal Distribution (Simplified representation for SymPy)\n",
    "G = exp(-(s - 20)^2 / (2 * 10^2)) / sqrt(2 * pi * 10^2)  # Normal PDF (Not truncated)\n",
    "\n",
    "# Probability of Acceptance Function\n",
    "Q = Piecewise(\n",
    "    (1, s >= K/2),\n",
    "    (0, s <= 0),\n",
    "    (0, r <= 0),\n",
    "    (1 - integrate(G, (r - s + K/2) / r, s), s >= r),\n",
    "    (1 - integrate(G, K / (2 * s), s), true)\n",
    ")\n",
    "\n",
    "# Derivative of Q (dQ)\n",
    "dQ = diff(Q, s)\n",
    "\n",
    "# Type function based on loss aversion\n",
    "TypeFunction = Max(1, (Q * (1 + 2 * alpha) / (R * dQ) - (K / R) * (1 + alpha) + 1 + s * (1 + 2 * alpha) / R))\n",
    "\n",
    "# Compute at reference points\n",
    "AtOne = 1 - integrate(G, (K / 2, r))\n",
    "\n",
    "AtR = Max(integrate(G, (TypeFunction, r)), 0)\n",
    "\n",
    "# Display symbolic results\n",
    "Q, dQ, TypeFunction, AtOne, AtR"
   ]
  }
 ],
 "metadata": {
  "kernelspec": {
   "display_name": "Julia 1.11.2",
   "language": "julia",
   "name": "julia-1.11"
  },
  "language_info": {
   "file_extension": ".jl",
   "mimetype": "application/julia",
   "name": "julia",
   "version": "1.11.2"
  }
 },
 "nbformat": 4,
 "nbformat_minor": 2
}
